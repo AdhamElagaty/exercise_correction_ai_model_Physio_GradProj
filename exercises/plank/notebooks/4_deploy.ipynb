{
 "cells": [
  {
   "cell_type": "markdown",
   "id": "5223a023",
   "metadata": {},
   "source": [
    "# 4. Model Deployment (PKL to ONNX) - Plank"
   ]
  },
  {
   "cell_type": "markdown",
   "id": "425fa61b",
   "metadata": {},
   "source": [
    "**Objective:**\n",
    "1. Load a specific trained pipeline (e.g., RandomForest) from `.pkl`.\n",
    "2. Convert the entire `scikit-learn` pipeline to ONNX format using `ModelDeployConverterUtils`.\n",
    "3. Save the ONNX model to the `models/onnx/` directory.\n",
    "\n",
    "**Note:** We are converting the *entire pipeline* (imputer + scaler + model). Therefore, we do **not** need to convert the scaler to a separate JSON file. The ONNX model will handle all preprocessing steps."
   ]
  },
  {
   "cell_type": "code",
   "execution_count": 5,
   "id": "13e5048c",
   "metadata": {},
   "outputs": [],
   "source": [
    "import os\n",
    "import sys\n",
    "import logging\n",
    "import onnxruntime as ort\n",
    "\n",
    "module_path = os.path.abspath(os.path.join('../../..'))\n",
    "if module_path not in sys.path:\n",
    "    sys.path.append(module_path)\n",
    "\n",
    "from utils.model_deploy_convertor_utils import ModelDeployConverterUtils\n",
    "\n",
    "# Configure logger for the utility to see detailed output\n",
    "logger = logging.getLogger('utils.model_deploy_convertor_utils')\n",
    "logger.setLevel(logging.INFO)"
   ]
  },
  {
   "cell_type": "markdown",
   "id": "3e2ef740",
   "metadata": {},
   "source": [
    "## 4.1 Define Paths and Parameters"
   ]
  },
  {
   "cell_type": "code",
   "execution_count": 6,
   "id": "22039121",
   "metadata": {},
   "outputs": [
    {
     "name": "stdout",
     "output_type": "stream",
     "text": [
      "Will convert 'RF_model.pkl' to 'RF_model.onnx'\n"
     ]
    }
   ],
   "source": [
    "MODEL_PKL_DIR = \"../models/pkl/\"\n",
    "MODEL_ONNX_DIR = \"../models/onnx/\"\n",
    "os.makedirs(MODEL_ONNX_DIR, exist_ok=True)\n",
    "\n",
    "# >>>>> YOU CAN CHANGE THIS VALUE TO 'LR', 'KNN', 'DT', 'RF', or 'XGB' if you saved it earlier <<<<<\n",
    "MODEL_KEY_TO_CONVERT = 'RF'\n",
    "\n",
    "# The name of the PKL file without the extension\n",
    "PKL_MODEL_NAME = f\"{MODEL_KEY_TO_CONVERT}_model\"\n",
    "\n",
    "TARGET_OPSET = 12\n",
    "\n",
    "print(f\"Will convert '{PKL_MODEL_NAME}.pkl' to '{PKL_MODEL_NAME}.onnx'\")"
   ]
  },
  {
   "cell_type": "markdown",
   "id": "d3b71845",
   "metadata": {},
   "source": [
    "## 4.2 Perform Conversion"
   ]
  },
  {
   "cell_type": "code",
   "execution_count": 7,
   "id": "41b0f1f3",
   "metadata": {},
   "outputs": [
    {
     "name": "stderr",
     "output_type": "stream",
     "text": [
      "2025-06-08 14:30:47,440 - utils.model_deploy_convertor_utils - INFO - Starting conversion for model 'RF_model': ../models/pkl/RF_model.pkl -> ../models/onnx/RF_model.onnx\n",
      "2025-06-08 14:30:47,445 - utils.model_deploy_convertor_utils - INFO - Successfully loaded pickle model from ../models/pkl/RF_model.pkl\n",
      "2025-06-08 14:30:47,447 - utils.model_deploy_convertor_utils - INFO - Model for 'RF_model' expects 20 input features.\n",
      "2025-06-08 14:30:47,448 - utils.model_deploy_convertor_utils - INFO - Attempting to convert model 'RF_model' to ONNX with target_opset=12.\n"
     ]
    },
    {
     "name": "stdout",
     "output_type": "stream",
     "text": [
      "--- Starting ONNX Conversion for RF_model ---\n"
     ]
    },
    {
     "name": "stderr",
     "output_type": "stream",
     "text": [
      "2025-06-08 14:30:47,723 - utils.model_deploy_convertor_utils - INFO - Successfully converted model 'RF_model' to ONNX format.\n",
      "2025-06-08 14:30:47,731 - utils.model_deploy_convertor_utils - INFO - Successfully saved ONNX model to ../models/onnx/RF_model.onnx\n"
     ]
    },
    {
     "name": "stdout",
     "output_type": "stream",
     "text": [
      "\n",
      "SUCCESS: Model converted and saved to: ../models/onnx/RF_model.onnx\n"
     ]
    }
   ],
   "source": [
    "print(f\"--- Starting ONNX Conversion for {PKL_MODEL_NAME} ---\")\n",
    "\n",
    "onnx_model_path = ModelDeployConverterUtils.convert_model_pickle_to_onnx(\n",
    "    pickle_model_dir=MODEL_PKL_DIR,\n",
    "    onnx_model_dir=MODEL_ONNX_DIR,\n",
    "    name=PKL_MODEL_NAME, # The name of the .pkl file (without extension)\n",
    "    target_opset=TARGET_OPSET\n",
    ")\n",
    "\n",
    "if onnx_model_path and os.path.exists(onnx_model_path):\n",
    "    print(f\"\\nSUCCESS: Model converted and saved to: {onnx_model_path}\")\n",
    "else:\n",
    "    print(f\"\\nFAILURE: Model conversion failed. Check logs above for errors.\")"
   ]
  },
  {
   "cell_type": "markdown",
   "id": "97be66f8",
   "metadata": {},
   "source": [
    "## 4.3 Verify ONNX Model (Optional)"
   ]
  },
  {
   "cell_type": "code",
   "execution_count": 8,
   "id": "c23484d0",
   "metadata": {},
   "outputs": [
    {
     "name": "stdout",
     "output_type": "stream",
     "text": [
      "\n",
      "--- ONNX Model Verification ---\n",
      "Model loaded successfully from ../models/onnx/RF_model.onnx\n",
      "Input Name: float_input\n",
      "Input Shape: [None, 20]\n",
      "Input Type: tensor(float)\n",
      "Number of Outputs: 2\n",
      "Output 0 (Labels) Name: output_label, Shape: [None]\n",
      "Output 1 (Probabilities) Name: output_probability, Shape: []\n"
     ]
    }
   ],
   "source": [
    "if onnx_model_path and os.path.exists(onnx_model_path):\n",
    "    try:\n",
    "        ort_session = ort.InferenceSession(onnx_model_path)\n",
    "        input_info = ort_session.get_inputs()[0]\n",
    "        output_info = ort_session.get_outputs()\n",
    "        \n",
    "        print(\"\\n--- ONNX Model Verification ---\")\n",
    "        print(f\"Model loaded successfully from {onnx_model_path}\")\n",
    "        print(f\"Input Name: {input_info.name}\")\n",
    "        print(f\"Input Shape: {input_info.shape}\")\n",
    "        print(f\"Input Type: {input_info.type}\")\n",
    "        print(f\"Number of Outputs: {len(output_info)}\")\n",
    "        print(f\"Output 0 (Labels) Name: {output_info[0].name}, Shape: {output_info[0].shape}\")\n",
    "        print(f\"Output 1 (Probabilities) Name: {output_info[1].name}, Shape: {output_info[1].shape}\")\n",
    "    except Exception as e:\n",
    "        print(f\"\\nError during ONNX model verification: {e}\")\n",
    "else:\n",
    "    print(\"\\nSkipping ONNX verification because the model file was not created.\")"
   ]
  }
 ],
 "metadata": {
  "kernelspec": {
   "display_name": "myenv",
   "language": "python",
   "name": "python3"
  },
  "language_info": {
   "codemirror_mode": {
    "name": "ipython",
    "version": 3
   },
   "file_extension": ".py",
   "mimetype": "text/x-python",
   "name": "python",
   "nbconvert_exporter": "python",
   "pygments_lexer": "ipython3",
   "version": "3.8.20"
  }
 },
 "nbformat": 4,
 "nbformat_minor": 5
}
