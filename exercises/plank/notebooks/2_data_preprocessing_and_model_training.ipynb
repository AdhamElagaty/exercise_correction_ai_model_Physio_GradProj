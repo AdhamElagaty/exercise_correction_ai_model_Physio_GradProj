{
 "cells": [
  {
   "cell_type": "markdown",
   "metadata": {},
   "source": [
    "# 2. Data Preprocessing and Model Training - Plank"
   ]
  },
  {
   "cell_type": "markdown",
   "id": "3c85d4e1",
   "metadata": {},
   "source": [
    "**Objective:**\n",
    "1. Define a robust feature extraction process using `GeometryUtils`.\n",
    "2. Process the raw train/test data into feature matrices (X) and target vectors (y).\n",
    "3. Create `scikit-learn` pipelines that bundle imputation, scaling, and modeling.\n",
    "4. Train and evaluate a variety of classification models (LR, KNN, RF, XGB, etc.).\n",
    "5. Compare model performance and visualize the results.\n",
    "6. Save all trained model pipelines and a user-selected best model to `.pkl` files."
   ]
  },
  {
   "cell_type": "code",
   "execution_count": 2,
   "id": "8373b10d",
   "metadata": {},
   "outputs": [],
   "source": [
    "import pandas as pd\n",
    "import numpy as np\n",
    "import pickle\n",
    "import os\n",
    "import sys\n",
    "import matplotlib.pyplot as plt\n",
    "import seaborn as sns\n",
    "\n",
    "module_path = os.path.abspath(os.path.join('../../..'))\n",
    "if module_path not in sys.path:\n",
    "    sys.path.append(module_path)\n",
    "\n",
    "from utils.geometry_utils import GeometryUtils\n",
    "\n",
    "from sklearn.pipeline import Pipeline\n",
    "from sklearn.impute import SimpleImputer\n",
    "from sklearn.preprocessing import StandardScaler\n",
    "from sklearn.metrics import classification_report, accuracy_score, confusion_matrix, f1_score\n",
    "\n",
    "from sklearn.linear_model import LogisticRegression\n",
    "from sklearn.neighbors import KNeighborsClassifier\n",
    "from sklearn.tree import DecisionTreeClassifier\n",
    "from sklearn.ensemble import RandomForestClassifier\n",
    "from xgboost import XGBClassifier\n",
    "\n",
    "import warnings\n",
    "warnings.filterwarnings('ignore')\n",
    "\n",
    "sns.set_theme(style=\"whitegrid\")\n",
    "plt.rcParams['figure.figsize'] = (12, 6)"
   ]
  },
  {
   "cell_type": "markdown",
   "id": "471e2a89",
   "metadata": {},
   "source": [
    "## 2.1 Define Paths and Constants"
   ]
  },
  {
   "cell_type": "code",
   "execution_count": 3,
   "id": "8e8b28ab",
   "metadata": {},
   "outputs": [],
   "source": [
    "BASE_DATA_PATH = \"../data/\"\n",
    "TRAIN_RAW_PATH = os.path.join(BASE_DATA_PATH, \"train.csv\")\n",
    "TEST_RAW_PATH = os.path.join(BASE_DATA_PATH, \"test.csv\")\n",
    "\n",
    "MODEL_PKL_DIR = \"../models/pkl/\"\n",
    "os.makedirs(MODEL_PKL_DIR, exist_ok=True)\n",
    "\n",
    "VISIBILITY_THRESHOLD = 0.4\n",
    "RANDOM_STATE = 42\n",
    "\n",
    "LANDMARK_NAMES = [\n",
    "    'nose', 'left_eye_inner', 'left_eye', 'left_eye_outer', 'right_eye_inner', 'right_eye', 'right_eye_outer',\n",
    "    'left_ear', 'right_ear', 'mouth_left', 'mouth_right', 'left_shoulder', 'right_shoulder', 'left_elbow',\n",
    "    'right_elbow', 'left_wrist', 'right_wrist', 'left_pinky', 'right_pinky', 'left_index', 'right_index',\n",
    "    'left_thumb', 'right_thumb', 'left_hip', 'right_hip', 'left_knee', 'right_knee', 'left_ankle',\n",
    "    'right_ankle', 'left_heel', 'right_heel', 'left_foot_index', 'right_foot_index'\n",
    "]\n",
    "\n",
    "FEATURE_COLUMN_NAMES = [\n",
    "    'left_elbow_angle', 'right_elbow_angle',\n",
    "    'left_shoulder_angle', 'right_shoulder_angle',\n",
    "    'left_hip_angle', 'right_hip_angle',\n",
    "    'left_knee_angle', 'right_knee_angle',\n",
    "    'left_body_align_angle', 'right_body_align_angle', \n",
    "    'left_hip_deviation', 'right_hip_deviation', \n",
    "    'shoulder_hip_y_diff_left', 'shoulder_hip_y_diff_right',\n",
    "    'hip_ankle_y_diff_left', 'hip_ankle_y_diff_right',\n",
    "    'torso_length_left', 'torso_length_right',\n",
    "    'leg_length_left', 'leg_length_right'\n",
    "]"
   ]
  },
  {
   "cell_type": "markdown",
   "id": "7aef244d",
   "metadata": {},
   "source": [
    "## 2.2 Feature Extraction"
   ]
  },
  {
   "cell_type": "code",
   "execution_count": 4,
   "id": "14953f06",
   "metadata": {},
   "outputs": [],
   "source": [
    "geo_utils = GeometryUtils()\n",
    "\n",
    "def extract_features_from_row(row, landmark_names, visibility_threshold):\n",
    "    lm_coords = {}\n",
    "    for name in landmark_names:\n",
    "        x = row.get(f'{name}_x', np.nan)\n",
    "        y = row.get(f'{name}_y', np.nan)\n",
    "        v = row.get(f'{name}_v', 0)\n",
    "        if v > visibility_threshold:\n",
    "            lm_coords[name] = [x, y]\n",
    "        else:\n",
    "            lm_coords[name] = [np.nan, np.nan]\n",
    "\n",
    "    def get_coord(name): return lm_coords.get(name, [np.nan, np.nan])\n",
    "\n",
    "    features = []\n",
    "    # Angles\n",
    "    features.append(geo_utils.calculate_angle(get_coord('left_shoulder'), get_coord('left_elbow'), get_coord('left_wrist')))\n",
    "    features.append(geo_utils.calculate_angle(get_coord('right_shoulder'), get_coord('right_elbow'), get_coord('right_wrist')))\n",
    "    features.append(geo_utils.calculate_angle(get_coord('left_elbow'), get_coord('left_shoulder'), get_coord('left_hip')))\n",
    "    features.append(geo_utils.calculate_angle(get_coord('right_elbow'), get_coord('right_shoulder'), get_coord('right_hip')))\n",
    "    features.append(geo_utils.calculate_angle(get_coord('left_shoulder'), get_coord('left_hip'), get_coord('left_knee')))\n",
    "    features.append(geo_utils.calculate_angle(get_coord('right_shoulder'), get_coord('right_hip'), get_coord('right_knee')))\n",
    "    features.append(geo_utils.calculate_angle(get_coord('left_hip'), get_coord('left_knee'), get_coord('left_ankle')))\n",
    "    features.append(geo_utils.calculate_angle(get_coord('right_hip'), get_coord('right_knee'), get_coord('right_ankle')))\n",
    "    # Body alignment\n",
    "    features.append(geo_utils.calculate_angle(get_coord('left_shoulder'), get_coord('left_hip'), get_coord('left_ankle')))\n",
    "    features.append(geo_utils.calculate_angle(get_coord('right_shoulder'), get_coord('right_hip'), get_coord('right_ankle')))\n",
    "    # Hip deviation\n",
    "    features.append(geo_utils.distance_point_to_line(get_coord('left_hip'), get_coord('left_shoulder'), get_coord('left_knee')))\n",
    "    features.append(geo_utils.distance_point_to_line(get_coord('right_hip'), get_coord('right_shoulder'), get_coord('right_knee')))\n",
    "    # Vertical differences\n",
    "    features.append(abs(get_coord('left_shoulder')[1] - get_coord('left_hip')[1]))\n",
    "    features.append(abs(get_coord('right_shoulder')[1] - get_coord('right_hip')[1]))\n",
    "    features.append(abs(get_coord('left_hip')[1] - get_coord('left_ankle')[1]))\n",
    "    features.append(abs(get_coord('right_hip')[1] - get_coord('right_ankle')[1]))\n",
    "    # Segment lengths\n",
    "    features.append(geo_utils.calculate_distance(get_coord('left_shoulder'), get_coord('left_hip')))\n",
    "    features.append(geo_utils.calculate_distance(get_coord('right_shoulder'), get_coord('right_hip')))\n",
    "    features.append(geo_utils.calculate_distance(get_coord('left_hip'), get_coord('left_ankle')))\n",
    "    features.append(geo_utils.calculate_distance(get_coord('right_hip'), get_coord('right_ankle')))\n",
    "    return features\n",
    "\n",
    "def process_raw_data_to_features(df_raw):\n",
    "    feature_data = df_raw.apply(lambda row: extract_features_from_row(row, LANDMARK_NAMES, VISIBILITY_THRESHOLD), axis=1, result_type='expand')\n",
    "    feature_data.columns = FEATURE_COLUMN_NAMES\n",
    "    \n",
    "    # Combine with labels\n",
    "    df_features = pd.concat([df_raw['label'], feature_data], axis=1)\n",
    "    \n",
    "    # Map labels to numeric\n",
    "    label_map = {\"C\": 0, \"H\": 1, \"L\": 2} # Correct, Hips High, Hips Low\n",
    "    df_features['label'] = df_features['label'].map(label_map)\n",
    "    \n",
    "    # Drop rows where label mapping failed or all features are NaN\n",
    "    df_features.dropna(subset=['label'], inplace=True)\n",
    "    df_features.dropna(how='all', subset=FEATURE_COLUMN_NAMES, inplace=True)\n",
    "    df_features['label'] = df_features['label'].astype(int)\n",
    "    \n",
    "    return df_features"
   ]
  },
  {
   "cell_type": "markdown",
   "id": "d2974102",
   "metadata": {},
   "source": [
    "## 2.3 Load and Process Data"
   ]
  },
  {
   "cell_type": "code",
   "execution_count": 5,
   "id": "05ecc619",
   "metadata": {},
   "outputs": [
    {
     "name": "stdout",
     "output_type": "stream",
     "text": [
      "Processing training data...\n",
      "Processing testing data...\n",
      "Training set: X shape (28520, 20), y shape (28520,)\n",
      "Test set: X shape (710, 20), y shape (710,)\n",
      "\n",
      "Features extracted. Sample:\n"
     ]
    },
    {
     "data": {
      "application/vnd.microsoft.datawrangler.viewer.v0+json": {
       "columns": [
        {
         "name": "index",
         "rawType": "int64",
         "type": "integer"
        },
        {
         "name": "left_elbow_angle",
         "rawType": "float64",
         "type": "float"
        },
        {
         "name": "right_elbow_angle",
         "rawType": "float64",
         "type": "float"
        },
        {
         "name": "left_shoulder_angle",
         "rawType": "float64",
         "type": "float"
        },
        {
         "name": "right_shoulder_angle",
         "rawType": "float64",
         "type": "float"
        },
        {
         "name": "left_hip_angle",
         "rawType": "float64",
         "type": "float"
        },
        {
         "name": "right_hip_angle",
         "rawType": "float64",
         "type": "float"
        },
        {
         "name": "left_knee_angle",
         "rawType": "float64",
         "type": "float"
        },
        {
         "name": "right_knee_angle",
         "rawType": "float64",
         "type": "float"
        },
        {
         "name": "left_body_align_angle",
         "rawType": "float64",
         "type": "float"
        },
        {
         "name": "right_body_align_angle",
         "rawType": "float64",
         "type": "float"
        },
        {
         "name": "left_hip_deviation",
         "rawType": "float64",
         "type": "float"
        },
        {
         "name": "right_hip_deviation",
         "rawType": "float64",
         "type": "float"
        },
        {
         "name": "shoulder_hip_y_diff_left",
         "rawType": "float64",
         "type": "float"
        },
        {
         "name": "shoulder_hip_y_diff_right",
         "rawType": "float64",
         "type": "float"
        },
        {
         "name": "hip_ankle_y_diff_left",
         "rawType": "float64",
         "type": "float"
        },
        {
         "name": "hip_ankle_y_diff_right",
         "rawType": "float64",
         "type": "float"
        },
        {
         "name": "torso_length_left",
         "rawType": "float64",
         "type": "float"
        },
        {
         "name": "torso_length_right",
         "rawType": "float64",
         "type": "float"
        },
        {
         "name": "leg_length_left",
         "rawType": "float64",
         "type": "float"
        },
        {
         "name": "leg_length_right",
         "rawType": "float64",
         "type": "float"
        }
       ],
       "ref": "de0a9bf0-200f-4b9c-ace7-8d8f39986749",
       "rows": [
        [
         "0",
         null,
         "92.38430776966047",
         null,
         "91.24257314865179",
         null,
         "169.20156702048655",
         null,
         "178.35434731437",
         "167.20202188562382",
         "168.3749920078917",
         null,
         "0.019536391619014402",
         "0.0034447312355041504",
         "0.006737351417541504",
         "0.07699263095855713",
         "0.06697916984558105",
         "0.21938158637404848",
         "0.2233283751103346",
         "0.37343366699745933",
         "0.3897204554786707"
        ],
        [
         "1",
         null,
         "92.4215656520249",
         null,
         "91.2267155490672",
         null,
         "169.2451605291796",
         null,
         "178.32060942548102",
         "167.20986654163372",
         "168.40180731402873",
         null,
         "0.01946118477920049",
         "0.0034109950065612793",
         "0.006664872169494629",
         "0.07696682214736938",
         "0.06692034006118774",
         "0.21941127514328154",
         "0.2233864039860364",
         "0.3732748516212557",
         "0.38968097473914776"
        ],
        [
         "2",
         null,
         "92.4511415883496",
         null,
         "91.2216307620514",
         null,
         "169.26679990223514",
         null,
         "178.29729131734672",
         "167.2132449286769",
         "168.4119278292078",
         null,
         "0.019425448759541365",
         "0.0033971667289733887",
         "0.006636083126068115",
         "0.07695478200912476",
         "0.06690120697021484",
         "0.2194483686385278",
         "0.2234190001397715",
         "0.3732046186299474",
         "0.38966650336085784"
        ],
        [
         "3",
         null,
         "92.47579198134733",
         null,
         "91.21231029059663",
         null,
         "169.2974819710642",
         null,
         "178.26860634313903",
         "167.21938801639482",
         "168.428533993029",
         null,
         "0.01937489780619358",
         "0.0033746957778930664",
         "0.006591856479644775",
         "0.07693809270858765",
         "0.06686669588088989",
         "0.21947180136887853",
         "0.22344193940551166",
         "0.3731292860066443",
         "0.38966395611981414"
        ],
        [
         "4",
         null,
         "92.49951304651299",
         null,
         "91.20992591382759",
         null,
         "169.318401748346",
         null,
         "178.24756431587554",
         "167.2235946546045",
         "168.43905224819838",
         null,
         "0.01933983749024683",
         "0.003357827663421631",
         "0.006570637226104736",
         "0.0769241452217102",
         "0.06683266162872314",
         "0.2194863526660282",
         "0.2234663375395724",
         "0.37305374595234914",
         "0.3896565758170025"
        ]
       ],
       "shape": {
        "columns": 20,
        "rows": 5
       }
      },
      "text/html": [
       "<div>\n",
       "<style scoped>\n",
       "    .dataframe tbody tr th:only-of-type {\n",
       "        vertical-align: middle;\n",
       "    }\n",
       "\n",
       "    .dataframe tbody tr th {\n",
       "        vertical-align: top;\n",
       "    }\n",
       "\n",
       "    .dataframe thead th {\n",
       "        text-align: right;\n",
       "    }\n",
       "</style>\n",
       "<table border=\"1\" class=\"dataframe\">\n",
       "  <thead>\n",
       "    <tr style=\"text-align: right;\">\n",
       "      <th></th>\n",
       "      <th>left_elbow_angle</th>\n",
       "      <th>right_elbow_angle</th>\n",
       "      <th>left_shoulder_angle</th>\n",
       "      <th>right_shoulder_angle</th>\n",
       "      <th>left_hip_angle</th>\n",
       "      <th>right_hip_angle</th>\n",
       "      <th>left_knee_angle</th>\n",
       "      <th>right_knee_angle</th>\n",
       "      <th>left_body_align_angle</th>\n",
       "      <th>right_body_align_angle</th>\n",
       "      <th>left_hip_deviation</th>\n",
       "      <th>right_hip_deviation</th>\n",
       "      <th>shoulder_hip_y_diff_left</th>\n",
       "      <th>shoulder_hip_y_diff_right</th>\n",
       "      <th>hip_ankle_y_diff_left</th>\n",
       "      <th>hip_ankle_y_diff_right</th>\n",
       "      <th>torso_length_left</th>\n",
       "      <th>torso_length_right</th>\n",
       "      <th>leg_length_left</th>\n",
       "      <th>leg_length_right</th>\n",
       "    </tr>\n",
       "  </thead>\n",
       "  <tbody>\n",
       "    <tr>\n",
       "      <th>0</th>\n",
       "      <td>NaN</td>\n",
       "      <td>92.384308</td>\n",
       "      <td>NaN</td>\n",
       "      <td>91.242573</td>\n",
       "      <td>NaN</td>\n",
       "      <td>169.201567</td>\n",
       "      <td>NaN</td>\n",
       "      <td>178.354347</td>\n",
       "      <td>167.202022</td>\n",
       "      <td>168.374992</td>\n",
       "      <td>NaN</td>\n",
       "      <td>0.019536</td>\n",
       "      <td>0.003445</td>\n",
       "      <td>0.006737</td>\n",
       "      <td>0.076993</td>\n",
       "      <td>0.066979</td>\n",
       "      <td>0.219382</td>\n",
       "      <td>0.223328</td>\n",
       "      <td>0.373434</td>\n",
       "      <td>0.389720</td>\n",
       "    </tr>\n",
       "    <tr>\n",
       "      <th>1</th>\n",
       "      <td>NaN</td>\n",
       "      <td>92.421566</td>\n",
       "      <td>NaN</td>\n",
       "      <td>91.226716</td>\n",
       "      <td>NaN</td>\n",
       "      <td>169.245161</td>\n",
       "      <td>NaN</td>\n",
       "      <td>178.320609</td>\n",
       "      <td>167.209867</td>\n",
       "      <td>168.401807</td>\n",
       "      <td>NaN</td>\n",
       "      <td>0.019461</td>\n",
       "      <td>0.003411</td>\n",
       "      <td>0.006665</td>\n",
       "      <td>0.076967</td>\n",
       "      <td>0.066920</td>\n",
       "      <td>0.219411</td>\n",
       "      <td>0.223386</td>\n",
       "      <td>0.373275</td>\n",
       "      <td>0.389681</td>\n",
       "    </tr>\n",
       "    <tr>\n",
       "      <th>2</th>\n",
       "      <td>NaN</td>\n",
       "      <td>92.451142</td>\n",
       "      <td>NaN</td>\n",
       "      <td>91.221631</td>\n",
       "      <td>NaN</td>\n",
       "      <td>169.266800</td>\n",
       "      <td>NaN</td>\n",
       "      <td>178.297291</td>\n",
       "      <td>167.213245</td>\n",
       "      <td>168.411928</td>\n",
       "      <td>NaN</td>\n",
       "      <td>0.019425</td>\n",
       "      <td>0.003397</td>\n",
       "      <td>0.006636</td>\n",
       "      <td>0.076955</td>\n",
       "      <td>0.066901</td>\n",
       "      <td>0.219448</td>\n",
       "      <td>0.223419</td>\n",
       "      <td>0.373205</td>\n",
       "      <td>0.389667</td>\n",
       "    </tr>\n",
       "    <tr>\n",
       "      <th>3</th>\n",
       "      <td>NaN</td>\n",
       "      <td>92.475792</td>\n",
       "      <td>NaN</td>\n",
       "      <td>91.212310</td>\n",
       "      <td>NaN</td>\n",
       "      <td>169.297482</td>\n",
       "      <td>NaN</td>\n",
       "      <td>178.268606</td>\n",
       "      <td>167.219388</td>\n",
       "      <td>168.428534</td>\n",
       "      <td>NaN</td>\n",
       "      <td>0.019375</td>\n",
       "      <td>0.003375</td>\n",
       "      <td>0.006592</td>\n",
       "      <td>0.076938</td>\n",
       "      <td>0.066867</td>\n",
       "      <td>0.219472</td>\n",
       "      <td>0.223442</td>\n",
       "      <td>0.373129</td>\n",
       "      <td>0.389664</td>\n",
       "    </tr>\n",
       "    <tr>\n",
       "      <th>4</th>\n",
       "      <td>NaN</td>\n",
       "      <td>92.499513</td>\n",
       "      <td>NaN</td>\n",
       "      <td>91.209926</td>\n",
       "      <td>NaN</td>\n",
       "      <td>169.318402</td>\n",
       "      <td>NaN</td>\n",
       "      <td>178.247564</td>\n",
       "      <td>167.223595</td>\n",
       "      <td>168.439052</td>\n",
       "      <td>NaN</td>\n",
       "      <td>0.019340</td>\n",
       "      <td>0.003358</td>\n",
       "      <td>0.006571</td>\n",
       "      <td>0.076924</td>\n",
       "      <td>0.066833</td>\n",
       "      <td>0.219486</td>\n",
       "      <td>0.223466</td>\n",
       "      <td>0.373054</td>\n",
       "      <td>0.389657</td>\n",
       "    </tr>\n",
       "  </tbody>\n",
       "</table>\n",
       "</div>"
      ],
      "text/plain": [
       "   left_elbow_angle  right_elbow_angle  left_shoulder_angle  \\\n",
       "0               NaN          92.384308                  NaN   \n",
       "1               NaN          92.421566                  NaN   \n",
       "2               NaN          92.451142                  NaN   \n",
       "3               NaN          92.475792                  NaN   \n",
       "4               NaN          92.499513                  NaN   \n",
       "\n",
       "   right_shoulder_angle  left_hip_angle  right_hip_angle  left_knee_angle  \\\n",
       "0             91.242573             NaN       169.201567              NaN   \n",
       "1             91.226716             NaN       169.245161              NaN   \n",
       "2             91.221631             NaN       169.266800              NaN   \n",
       "3             91.212310             NaN       169.297482              NaN   \n",
       "4             91.209926             NaN       169.318402              NaN   \n",
       "\n",
       "   right_knee_angle  left_body_align_angle  right_body_align_angle  \\\n",
       "0        178.354347             167.202022              168.374992   \n",
       "1        178.320609             167.209867              168.401807   \n",
       "2        178.297291             167.213245              168.411928   \n",
       "3        178.268606             167.219388              168.428534   \n",
       "4        178.247564             167.223595              168.439052   \n",
       "\n",
       "   left_hip_deviation  right_hip_deviation  shoulder_hip_y_diff_left  \\\n",
       "0                 NaN             0.019536                  0.003445   \n",
       "1                 NaN             0.019461                  0.003411   \n",
       "2                 NaN             0.019425                  0.003397   \n",
       "3                 NaN             0.019375                  0.003375   \n",
       "4                 NaN             0.019340                  0.003358   \n",
       "\n",
       "   shoulder_hip_y_diff_right  hip_ankle_y_diff_left  hip_ankle_y_diff_right  \\\n",
       "0                   0.006737               0.076993                0.066979   \n",
       "1                   0.006665               0.076967                0.066920   \n",
       "2                   0.006636               0.076955                0.066901   \n",
       "3                   0.006592               0.076938                0.066867   \n",
       "4                   0.006571               0.076924                0.066833   \n",
       "\n",
       "   torso_length_left  torso_length_right  leg_length_left  leg_length_right  \n",
       "0           0.219382            0.223328         0.373434          0.389720  \n",
       "1           0.219411            0.223386         0.373275          0.389681  \n",
       "2           0.219448            0.223419         0.373205          0.389667  \n",
       "3           0.219472            0.223442         0.373129          0.389664  \n",
       "4           0.219486            0.223466         0.373054          0.389657  "
      ]
     },
     "metadata": {},
     "output_type": "display_data"
    }
   ],
   "source": [
    "df_raw_train = pd.read_csv(TRAIN_RAW_PATH)\n",
    "df_raw_test = pd.read_csv(TEST_RAW_PATH)\n",
    "\n",
    "print(\"Processing training data...\")\n",
    "df_train = process_raw_data_to_features(df_raw_train)\n",
    "print(\"Processing testing data...\")\n",
    "df_test = process_raw_data_to_features(df_raw_test)\n",
    "\n",
    "X_train = df_train.drop('label', axis=1)\n",
    "y_train = df_train['label']\n",
    "X_test = df_test.drop('label', axis=1)\n",
    "y_test = df_test['label']\n",
    "\n",
    "print(f\"Training set: X shape {X_train.shape}, y shape {y_train.shape}\")\n",
    "print(f\"Test set: X shape {X_test.shape}, y shape {y_test.shape}\")\n",
    "print(\"\\nFeatures extracted. Sample:\")\n",
    "display(X_train.head())"
   ]
  },
  {
   "cell_type": "markdown",
   "id": "6d6fc28d",
   "metadata": {},
   "source": [
    "## 2.4 Define Model Pipelines"
   ]
  },
  {
   "cell_type": "code",
   "execution_count": 6,
   "id": "649dd460",
   "metadata": {},
   "outputs": [
    {
     "name": "stdout",
     "output_type": "stream",
     "text": [
      "Defined 5 model pipelines.\n"
     ]
    }
   ],
   "source": [
    "pipelines = {\n",
    "    \"LR\": Pipeline([\n",
    "        ('imputer', SimpleImputer(strategy='median')),\n",
    "        ('scaler', StandardScaler()),\n",
    "        ('model', LogisticRegression(random_state=RANDOM_STATE, class_weight='balanced', max_iter=1000))\n",
    "    ]),\n",
    "    \"KNN\": Pipeline([\n",
    "        ('imputer', SimpleImputer(strategy='median')),\n",
    "        ('scaler', StandardScaler()),\n",
    "        ('model', KNeighborsClassifier(n_neighbors=7))\n",
    "    ]),\n",
    "    \"DT\": Pipeline([\n",
    "        ('imputer', SimpleImputer(strategy='median')),\n",
    "        # ('scaler', StandardScaler()), # DTs are not sensitive to feature scaling\n",
    "        ('model', DecisionTreeClassifier(random_state=RANDOM_STATE, class_weight='balanced'))\n",
    "    ]),\n",
    "    \"RF\": Pipeline([\n",
    "        ('imputer', SimpleImputer(strategy='median')),\n",
    "        # ('scaler', StandardScaler()), # RFs are not sensitive to feature scaling\n",
    "        ('model', RandomForestClassifier(random_state=RANDOM_STATE, class_weight='balanced', n_estimators=100))\n",
    "    ]),\n",
    "    \"XGB\": Pipeline([\n",
    "        ('imputer', SimpleImputer(strategy='median')),\n",
    "        ('scaler', StandardScaler()),\n",
    "        ('model', XGBClassifier(random_state=RANDOM_STATE, use_label_encoder=False, eval_metric='mlogloss'))\n",
    "    ])\n",
    "}\n",
    "print(f\"Defined {len(pipelines)} model pipelines.\")"
   ]
  },
  {
   "cell_type": "markdown",
   "id": "dc4b4c03",
   "metadata": {},
   "source": [
    "## 2.5 Train and Evaluate Models"
   ]
  },
  {
   "cell_type": "code",
   "execution_count": 7,
   "id": "f94320d4",
   "metadata": {},
   "outputs": [
    {
     "name": "stdout",
     "output_type": "stream",
     "text": [
      "--- Training LR ---\n",
      "LR - Test Accuracy: 0.9915, F1-Score: 0.9916\n",
      "--- Training KNN ---\n",
      "KNN - Test Accuracy: 0.9930, F1-Score: 0.9930\n",
      "--- Training DT ---\n",
      "DT - Test Accuracy: 0.9845, F1-Score: 0.9845\n",
      "--- Training RF ---\n",
      "RF - Test Accuracy: 0.9958, F1-Score: 0.9958\n",
      "--- Training XGB ---\n",
      "XGB - Test Accuracy: 0.9958, F1-Score: 0.9958\n",
      "\n",
      "--- Model Evaluation Summary ---\n"
     ]
    },
    {
     "data": {
      "application/vnd.microsoft.datawrangler.viewer.v0+json": {
       "columns": [
        {
         "name": "index",
         "rawType": "int64",
         "type": "integer"
        },
        {
         "name": "Model",
         "rawType": "object",
         "type": "string"
        },
        {
         "name": "Accuracy",
         "rawType": "float64",
         "type": "float"
        },
        {
         "name": "F1-Score (Weighted)",
         "rawType": "float64",
         "type": "float"
        }
       ],
       "ref": "e0a8c815-b4bc-41e4-a3ad-e196e5558578",
       "rows": [
        [
         "0",
         "RF",
         "0.995774647887324",
         "0.9957806213166401"
        ],
        [
         "1",
         "XGB",
         "0.995774647887324",
         "0.9957806213166401"
        ],
        [
         "2",
         "KNN",
         "0.9929577464788732",
         "0.9929693241947846"
        ],
        [
         "3",
         "LR",
         "0.9915492957746479",
         "0.9915727332885962"
        ],
        [
         "4",
         "DT",
         "0.9845070422535211",
         "0.9845016728708045"
        ]
       ],
       "shape": {
        "columns": 3,
        "rows": 5
       }
      },
      "text/html": [
       "<div>\n",
       "<style scoped>\n",
       "    .dataframe tbody tr th:only-of-type {\n",
       "        vertical-align: middle;\n",
       "    }\n",
       "\n",
       "    .dataframe tbody tr th {\n",
       "        vertical-align: top;\n",
       "    }\n",
       "\n",
       "    .dataframe thead th {\n",
       "        text-align: right;\n",
       "    }\n",
       "</style>\n",
       "<table border=\"1\" class=\"dataframe\">\n",
       "  <thead>\n",
       "    <tr style=\"text-align: right;\">\n",
       "      <th></th>\n",
       "      <th>Model</th>\n",
       "      <th>Accuracy</th>\n",
       "      <th>F1-Score (Weighted)</th>\n",
       "    </tr>\n",
       "  </thead>\n",
       "  <tbody>\n",
       "    <tr>\n",
       "      <th>0</th>\n",
       "      <td>RF</td>\n",
       "      <td>0.995775</td>\n",
       "      <td>0.995781</td>\n",
       "    </tr>\n",
       "    <tr>\n",
       "      <th>1</th>\n",
       "      <td>XGB</td>\n",
       "      <td>0.995775</td>\n",
       "      <td>0.995781</td>\n",
       "    </tr>\n",
       "    <tr>\n",
       "      <th>2</th>\n",
       "      <td>KNN</td>\n",
       "      <td>0.992958</td>\n",
       "      <td>0.992969</td>\n",
       "    </tr>\n",
       "    <tr>\n",
       "      <th>3</th>\n",
       "      <td>LR</td>\n",
       "      <td>0.991549</td>\n",
       "      <td>0.991573</td>\n",
       "    </tr>\n",
       "    <tr>\n",
       "      <th>4</th>\n",
       "      <td>DT</td>\n",
       "      <td>0.984507</td>\n",
       "      <td>0.984502</td>\n",
       "    </tr>\n",
       "  </tbody>\n",
       "</table>\n",
       "</div>"
      ],
      "text/plain": [
       "  Model  Accuracy  F1-Score (Weighted)\n",
       "0    RF  0.995775             0.995781\n",
       "1   XGB  0.995775             0.995781\n",
       "2   KNN  0.992958             0.992969\n",
       "3    LR  0.991549             0.991573\n",
       "4    DT  0.984507             0.984502"
      ]
     },
     "metadata": {},
     "output_type": "display_data"
    }
   ],
   "source": [
    "trained_pipelines = {}\n",
    "evaluation_results = []\n",
    "label_names = ['Correct (0)', 'Hips High (1)', 'Hips Low (2)']\n",
    "\n",
    "for name, pipeline in pipelines.items():\n",
    "    print(f\"--- Training {name} ---\")\n",
    "    pipeline.fit(X_train, y_train)\n",
    "    trained_pipelines[name] = pipeline\n",
    "    \n",
    "    # Evaluate\n",
    "    y_pred = pipeline.predict(X_test)\n",
    "    accuracy = accuracy_score(y_test, y_pred)\n",
    "    f1 = f1_score(y_test, y_pred, average='weighted')\n",
    "    cm = confusion_matrix(y_test, y_pred)\n",
    "    \n",
    "    evaluation_results.append({\n",
    "        \"Model\": name,\n",
    "        \"Accuracy\": accuracy,\n",
    "        \"F1-Score (Weighted)\": f1,\n",
    "        \"Confusion Matrix\": cm\n",
    "    })\n",
    "    print(f\"{name} - Test Accuracy: {accuracy:.4f}, F1-Score: {f1:.4f}\")\n",
    "\n",
    "# Display results in a DataFrame\n",
    "results_df = pd.DataFrame(evaluation_results).sort_values(by='F1-Score (Weighted)', ascending=False).reset_index(drop=True)\n",
    "print(\"\\n--- Model Evaluation Summary ---\")\n",
    "display(results_df[['Model', 'Accuracy', 'F1-Score (Weighted)']])"
   ]
  },
  {
   "cell_type": "markdown",
   "id": "5aa9a41b",
   "metadata": {},
   "source": [
    "### Performance Visualization"
   ]
  },
  {
   "cell_type": "code",
   "execution_count": 8,
   "id": "a4ae0074",
   "metadata": {},
   "outputs": [
    {
     "data": {
      "image/png": "[encoded data removed]",
      "text/plain": [
       "<Figure size 1000x500 with 1 Axes>"
      ]
     },
     "metadata": {},
     "output_type": "display_data"
    },
    {
     "data": {
      "image/png": "[encoded data removed]",
      "text/plain": [
       "<Figure size 800x600 with 2 Axes>"
      ]
     },
     "metadata": {},
     "output_type": "display_data"
    }
   ],
   "source": [
    "# F1-Score Comparison Plot\n",
    "plt.figure(figsize=(10, 5))\n",
    "sns.barplot(data=results_df, x='F1-Score (Weighted)', y='Model', palette='viridis')\n",
    "plt.title('Model F1-Score Comparison')\n",
    "plt.xlim(0, 1)\n",
    "plt.show()\n",
    "\n",
    "# Confusion Matrix for the Best Model\n",
    "best_model_name = results_df.iloc[0]['Model']\n",
    "best_cm = results_df.iloc[0]['Confusion Matrix']\n",
    "\n",
    "plt.figure(figsize=(8, 6))\n",
    "sns.heatmap(best_cm, annot=True, fmt='d', cmap='Blues', \n",
    "            xticklabels=label_names, yticklabels=label_names)\n",
    "plt.title(f'Confusion Matrix for Best Model ({best_model_name})')\n",
    "plt.xlabel('Predicted Label')\n",
    "plt.ylabel('True Label')\n",
    "plt.show()"
   ]
  },
  {
   "cell_type": "markdown",
   "id": "b1e09dca",
   "metadata": {},
   "source": [
    "## 2.6 Save Models"
   ]
  },
  {
   "cell_type": "code",
   "execution_count": null,
   "id": "3b7f957c",
   "metadata": {},
   "outputs": [
    {
     "name": "stdout",
     "output_type": "stream",
     "text": [
      "All trained pipelines saved to: ../models/pkl/all_trained_model.pkl\n"
     ]
    },
    {
     "data": {
      "image/png": "[encoded data removed]",
      "text/plain": [
       "<Figure size 800x600 with 2 Axes>"
      ]
     },
     "metadata": {},
     "output_type": "display_data"
    },
    {
     "name": "stdout",
     "output_type": "stream",
     "text": [
      "Chosen model 'RF' saved to: ../models/pkl/RF_model.pkl\n"
     ]
    }
   ],
   "source": [
    "# 1. Save all trained pipelines into one file\n",
    "all_models_path = os.path.join(MODEL_PKL_DIR, 'all_trained_model.pkl')\n",
    "with open(all_models_path, 'wb') as f:\n",
    "    pickle.dump(trained_pipelines, f)\n",
    "print(f\"All trained pipelines saved to: {all_models_path}\")\n",
    "\n",
    "# 2. Choose and save a specific model for deployment\n",
    "#    >>>>> YOU CAN CHANGE THIS VALUE TO 'LR', 'KNN', 'DT', 'RF', or 'XGB' <<<<<\n",
    "CHOSEN_MODEL_KEY = 'RF' \n",
    "\n",
    "if CHOSEN_MODEL_KEY in trained_pipelines:\n",
    "    # Display Confusion Matrix for the chosen model\n",
    "    chosen_model_cm_row = results_df[results_df['Model'] == CHOSEN_MODEL_KEY]\n",
    "    if not chosen_model_cm_row.empty:\n",
    "        chosen_model_cm = chosen_model_cm_row.iloc[0]['Confusion Matrix']\n",
    "        plt.figure(figsize=(8, 6))\n",
    "        sns.heatmap(chosen_model_cm, annot=True, fmt='d', cmap='Blues', \n",
    "                    xticklabels=label_names, yticklabels=label_names)\n",
    "        plt.title(f'Confusion Matrix for Chosen Model ({CHOSEN_MODEL_KEY})')\n",
    "        plt.xlabel('Predicted Label')\n",
    "        plt.ylabel('True Label')\n",
    "        plt.show()\n",
    "    else:\n",
    "        print(f\"Could not find evaluation results for model '{CHOSEN_MODEL_KEY}' to display confusion matrix.\")\n",
    "\n",
    "    chosen_model_pipeline = trained_pipelines[CHOSEN_MODEL_KEY]\n",
    "    chosen_model_path = os.path.join(MODEL_PKL_DIR, f'{CHOSEN_MODEL_KEY}_model.pkl')\n",
    "    with open(chosen_model_path, 'wb') as f:\n",
    "        pickle.dump(chosen_model_pipeline, f)\n",
    "    print(f\"Chosen model '{CHOSEN_MODEL_KEY}' saved to: {chosen_model_path}\")\n",
    "else:\n",
    "    print(f\"Error: Chosen model key '{CHOSEN_MODEL_KEY}' not found in trained pipelines. Available keys: {list(trained_pipelines.keys())}\")"
   ]
  }
 ],
 "metadata": {
  "kernelspec": {
   "display_name": "myenv",
   "language": "python",
   "name": "python3"
  },
  "language_info": {
   "codemirror_mode": {
    "name": "ipython",
    "version": 3
   },
   "file_extension": ".py",
   "mimetype": "text/x-python",
   "name": "python",
   "nbconvert_exporter": "python",
   "pygments_lexer": "ipython3",
   "version": "3.8.20"
  }
 },
 "nbformat": 4,
 "nbformat_minor": 5
}
