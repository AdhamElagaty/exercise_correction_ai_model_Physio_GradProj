{
 "cells": [
  {
   "cell_type": "markdown",
   "id": "9f5928d4",
   "metadata": {},
   "source": [
    "# 1. Exploratory Data Analysis (EDA) - Plank Exercise"
   ]
  },
  {
   "cell_type": "markdown",
   "id": "b888851d",
   "metadata": {},
   "source": [
    "**Objective:** Load the plank dataset, understand its structure, identify missing values, analyze feature distributions, and visualize key aspects before feature engineering."
   ]
  },
  {
   "cell_type": "code",
   "execution_count": 8,
   "id": "4033a593",
   "metadata": {},
   "outputs": [],
   "source": [
    "import pandas as pd\n",
    "import numpy as np\n",
    "import matplotlib.pyplot as plt\n",
    "import seaborn as sns\n",
    "import os\n",
    "\n",
    "sns.set_theme(style=\"whitegrid\")\n",
    "plt.rcParams['figure.figsize'] = (14, 7)\n",
    "plt.rcParams['font.size'] = 12"
   ]
  },
  {
   "cell_type": "markdown",
   "id": "8e47f096",
   "metadata": {},
   "source": [
    "## 1.1 Load Data"
   ]
  },
  {
   "cell_type": "code",
   "execution_count": 9,
   "id": "93d35346",
   "metadata": {},
   "outputs": [
    {
     "name": "stdout",
     "output_type": "stream",
     "text": [
      "Train and Test datasets loaded successfully.\n",
      "Training data shape: (28520, 69)\n",
      "Test data shape: (710, 69)\n"
     ]
    }
   ],
   "source": [
    "BASE_DATA_PATH = \"../data/\"\n",
    "TRAIN_DATA_PATH = os.path.join(BASE_DATA_PATH, \"train.csv\")\n",
    "TEST_DATA_PATH = os.path.join(BASE_DATA_PATH, \"test.csv\")\n",
    "\n",
    "try:\n",
    "    df_train_raw = pd.read_csv(TRAIN_DATA_PATH)\n",
    "    df_test_raw = pd.read_csv(TEST_DATA_PATH)\n",
    "    print(\"Train and Test datasets loaded successfully.\")\n",
    "    print(f\"Training data shape: {df_train_raw.shape}\")\n",
    "    print(f\"Test data shape: {df_test_raw.shape}\")\n",
    "except FileNotFoundError as e:\n",
    "    print(f\"Error: {e}. Make sure train.csv and test.csv are in the '{BASE_DATA_PATH}' directory.\")\n",
    "    df_train_raw = pd.DataFrame()\n",
    "    df_test_raw = pd.DataFrame()"
   ]
  },
  {
   "cell_type": "markdown",
   "id": "7408283e",
   "metadata": {},
   "source": [
    "## 1.2 Initial Data Inspection"
   ]
  },
  {
   "cell_type": "code",
   "execution_count": 10,
   "id": "e46e19cf",
   "metadata": {},
   "outputs": [
    {
     "name": "stdout",
     "output_type": "stream",
     "text": [
      "--- Training Data ---_raw\n",
      "\n",
      "First 5 rows:\n"
     ]
    },
    {
     "data": {
      "application/vnd.microsoft.datawrangler.viewer.v0+json": {
       "columns": [
        {
         "name": "index",
         "rawType": "int64",
         "type": "integer"
        },
        {
         "name": "label",
         "rawType": "object",
         "type": "string"
        },
        {
         "name": "nose_x",
         "rawType": "float64",
         "type": "float"
        },
        {
         "name": "nose_y",
         "rawType": "float64",
         "type": "float"
        },
        {
         "name": "nose_z",
         "rawType": "float64",
         "type": "float"
        },
        {
         "name": "nose_v",
         "rawType": "float64",
         "type": "float"
        },
        {
         "name": "left_shoulder_x",
         "rawType": "float64",
         "type": "float"
        },
        {
         "name": "left_shoulder_y",
         "rawType": "float64",
         "type": "float"
        },
        {
         "name": "left_shoulder_z",
         "rawType": "float64",
         "type": "float"
        },
        {
         "name": "left_shoulder_v",
         "rawType": "float64",
         "type": "float"
        },
        {
         "name": "right_shoulder_x",
         "rawType": "float64",
         "type": "float"
        },
        {
         "name": "right_shoulder_y",
         "rawType": "float64",
         "type": "float"
        },
        {
         "name": "right_shoulder_z",
         "rawType": "float64",
         "type": "float"
        },
        {
         "name": "right_shoulder_v",
         "rawType": "float64",
         "type": "float"
        },
        {
         "name": "left_elbow_x",
         "rawType": "float64",
         "type": "float"
        },
        {
         "name": "left_elbow_y",
         "rawType": "float64",
         "type": "float"
        },
        {
         "name": "left_elbow_z",
         "rawType": "float64",
         "type": "float"
        },
        {
         "name": "left_elbow_v",
         "rawType": "float64",
         "type": "float"
        },
        {
         "name": "right_elbow_x",
         "rawType": "float64",
         "type": "float"
        },
        {
         "name": "right_elbow_y",
         "rawType": "float64",
         "type": "float"
        },
        {
         "name": "right_elbow_z",
         "rawType": "float64",
         "type": "float"
        },
        {
         "name": "right_elbow_v",
         "rawType": "float64",
         "type": "float"
        },
        {
         "name": "left_wrist_x",
         "rawType": "float64",
         "type": "float"
        },
        {
         "name": "left_wrist_y",
         "rawType": "float64",
         "type": "float"
        },
        {
         "name": "left_wrist_z",
         "rawType": "float64",
         "type": "float"
        },
        {
         "name": "left_wrist_v",
         "rawType": "float64",
         "type": "float"
        },
        {
         "name": "right_wrist_x",
         "rawType": "float64",
         "type": "float"
        },
        {
         "name": "right_wrist_y",
         "rawType": "float64",
         "type": "float"
        },
        {
         "name": "right_wrist_z",
         "rawType": "float64",
         "type": "float"
        },
        {
         "name": "right_wrist_v",
         "rawType": "float64",
         "type": "float"
        },
        {
         "name": "left_hip_x",
         "rawType": "float64",
         "type": "float"
        },
        {
         "name": "left_hip_y",
         "rawType": "float64",
         "type": "float"
        },
        {
         "name": "left_hip_z",
         "rawType": "float64",
         "type": "float"
        },
        {
         "name": "left_hip_v",
         "rawType": "float64",
         "type": "float"
        },
        {
         "name": "right_hip_x",
         "rawType": "float64",
         "type": "float"
        },
        {
         "name": "right_hip_y",
         "rawType": "float64",
         "type": "float"
        },
        {
         "name": "right_hip_z",
         "rawType": "float64",
         "type": "float"
        },
        {
         "name": "right_hip_v",
         "rawType": "float64",
         "type": "float"
        },
        {
         "name": "left_knee_x",
         "rawType": "float64",
         "type": "float"
        },
        {
         "name": "left_knee_y",
         "rawType": "float64",
         "type": "float"
        },
        {
         "name": "left_knee_z",
         "rawType": "float64",
         "type": "float"
        },
        {
         "name": "left_knee_v",
         "rawType": "float64",
         "type": "float"
        },
        {
         "name": "right_knee_x",
         "rawType": "float64",
         "type": "float"
        },
        {
         "name": "right_knee_y",
         "rawType": "float64",
         "type": "float"
        },
        {
         "name": "right_knee_z",
         "rawType": "float64",
         "type": "float"
        },
        {
         "name": "right_knee_v",
         "rawType": "float64",
         "type": "float"
        },
        {
         "name": "left_ankle_x",
         "rawType": "float64",
         "type": "float"
        },
        {
         "name": "left_ankle_y",
         "rawType": "float64",
         "type": "float"
        },
        {
         "name": "left_ankle_z",
         "rawType": "float64",
         "type": "float"
        },
        {
         "name": "left_ankle_v",
         "rawType": "float64",
         "type": "float"
        },
        {
         "name": "right_ankle_x",
         "rawType": "float64",
         "type": "float"
        },
        {
         "name": "right_ankle_y",
         "rawType": "float64",
         "type": "float"
        },
        {
         "name": "right_ankle_z",
         "rawType": "float64",
         "type": "float"
        },
        {
         "name": "right_ankle_v",
         "rawType": "float64",
         "type": "float"
        },
        {
         "name": "left_heel_x",
         "rawType": "float64",
         "type": "float"
        },
        {
         "name": "left_heel_y",
         "rawType": "float64",
         "type": "float"
        },
        {
         "name": "left_heel_z",
         "rawType": "float64",
         "type": "float"
        },
        {
         "name": "left_heel_v",
         "rawType": "float64",
         "type": "float"
        },
        {
         "name": "right_heel_x",
         "rawType": "float64",
         "type": "float"
        },
        {
         "name": "right_heel_y",
         "rawType": "float64",
         "type": "float"
        },
        {
         "name": "right_heel_z",
         "rawType": "float64",
         "type": "float"
        },
        {
         "name": "right_heel_v",
         "rawType": "float64",
         "type": "float"
        },
        {
         "name": "left_foot_index_x",
         "rawType": "float64",
         "type": "float"
        },
        {
         "name": "left_foot_index_y",
         "rawType": "float64",
         "type": "float"
        },
        {
         "name": "left_foot_index_z",
         "rawType": "float64",
         "type": "float"
        },
        {
         "name": "left_foot_index_v",
         "rawType": "float64",
         "type": "float"
        },
        {
         "name": "right_foot_index_x",
         "rawType": "float64",
         "type": "float"
        },
        {
         "name": "right_foot_index_y",
         "rawType": "float64",
         "type": "float"
        },
        {
         "name": "right_foot_index_z",
         "rawType": "float64",
         "type": "float"
        },
        {
         "name": "right_foot_index_v",
         "rawType": "float64",
         "type": "float"
        }
       ],
       "ref": "b7848e0d-6c55-471e-804a-2c22435f48ba",
       "rows": [
        [
         "0",
         "C",
         "0.7921410202980042",
         "0.5852115154266357",
         "-0.0676397383213043",
         "0.9995180368423462",
         "0.6826316118240356",
         "0.5396695733070374",
         "0.270454853773117",
         "0.9968802332878112",
         "0.6889220476150513",
         "0.5595853924751282",
         "-0.3246972858905792",
         "0.9995126724243164",
         "0.6815956234931946",
         "0.7162528038024902",
         "0.2754063010215759",
         "0.2730908095836639",
         "0.6873565912246704",
         "0.7440670132637024",
         "-0.3564818203449249",
         "0.9728153347969056",
         "0.8118958473205566",
         "0.7368648648262024",
         "0.081419438123703",
         "0.2669809758663177",
         "0.8163574934005737",
         "0.7505353093147278",
         "-0.1829366385936737",
         "0.915486216545105",
         "0.4632770717144012",
         "0.5362248420715332",
         "0.1903738975524902",
         "0.9986568689346312",
         "0.465695321559906",
         "0.5528480410575867",
         "-0.1902543902397155",
         "0.9988208413124084",
         "0.2715924084186554",
         "0.5729538798332214",
         "0.2003587782382965",
         "0.2371290177106857",
         "0.2741281986236572",
         "0.583428144454956",
         "-0.1547976434230804",
         "0.9554372429847716",
         "0.0978665649890899",
         "0.6132174730300903",
         "0.2865563333034515",
         "0.4740458726882934",
         "0.0817736834287643",
         "0.6198272109031677",
         "-0.0745791867375373",
         "0.9675238728523254",
         "0.060912799090147",
         "0.6038110256195068",
         "0.2885036468505859",
         "0.6172424554824829",
         "0.0463284365832805",
         "0.6081308126449585",
         "-0.0770944952964782",
         "0.9578628540039062",
         "0.0980831310153007",
         "0.7164314389228821",
         "0.1862856596708297",
         "0.6853525638580322",
         "0.0843553468585014",
         "0.7248845100402832",
         "-0.2305621057748794",
         "0.9526219367980956"
        ],
        [
         "1",
         "C",
         "0.7921525239944458",
         "0.5852075815200806",
         "-0.0676574781537056",
         "0.9995182156562804",
         "0.6826236844062805",
         "0.5396751761436462",
         "0.2702037692070007",
         "0.9968681931495668",
         "0.6889257431030273",
         "0.5595812797546387",
         "-0.3250229358673095",
         "0.9995136260986328",
         "0.6815910935401917",
         "0.7162664532661438",
         "0.2754650712013244",
         "0.2724837362766266",
         "0.6873705983161926",
         "0.7440581917762756",
         "-0.3569470643997192",
         "0.9729191660881042",
         "0.8119368553161621",
         "0.7369437217712402",
         "0.0813796296715736",
         "0.2671101987361908",
         "0.8163678050041199",
         "0.750603199005127",
         "-0.1843779385089874",
         "0.9158650636672974",
         "0.463238924741745",
         "0.536264181137085",
         "0.1904004961252212",
         "0.998667538166046",
         "0.4656387865543365",
         "0.552916407585144",
         "-0.1902814358472824",
         "0.9988324046134948",
         "0.2715703248977661",
         "0.5729590654373169",
         "0.2012162953615188",
         "0.2374202013015747",
         "0.2740387618541717",
         "0.5834175944328308",
         "-0.1540471464395523",
         "0.9557340741157532",
         "0.0979852825403213",
         "0.6132310032844543",
         "0.2881267368793487",
         "0.4745972156524658",
         "0.0817469656467437",
         "0.6198367476463318",
         "-0.0733209922909736",
         "0.967817723751068",
         "0.0609980076551437",
         "0.6038275361061096",
         "0.2901870608329773",
         "0.618218719959259",
         "0.046322826296091",
         "0.6081383228302002",
         "-0.0757674947381019",
         "0.9583982229232788",
         "0.0981745421886444",
         "0.7163891196250916",
         "0.188317134976387",
         "0.6857433319091797",
         "0.0844430774450302",
         "0.7248538732528687",
         "-0.2289390563964843",
         "0.9529150128364564"
        ],
        [
         "2",
         "C",
         "0.7921599745750427",
         "0.585211455821991",
         "-0.0676016360521316",
         "0.9995186924934388",
         "0.6826168894767761",
         "0.5396839380264282",
         "0.2700905203819275",
         "0.9968642592430116",
         "0.6889265179634094",
         "0.5595798492431641",
         "-0.3251322209835052",
         "0.9995139837265016",
         "0.6815884113311768",
         "0.7162706255912781",
         "0.2755156755447387",
         "0.2722755372524261",
         "0.6873795986175537",
         "0.7440553903579712",
         "-0.3570524454116821",
         "0.9729676842689514",
         "0.811957597732544",
         "0.7369912266731262",
         "0.0814622938632965",
         "0.2673885226249695",
         "0.8163739442825317",
         "0.7506612539291382",
         "-0.1846593469381332",
         "0.916042685508728",
         "0.4631948173046112",
         "0.5362867712974548",
         "0.190413624048233",
         "0.9986736178398132",
         "0.4656060934066772",
         "0.552943766117096",
         "-0.1902947276830673",
         "0.99883770942688",
         "0.2715142667293548",
         "0.5729590654373169",
         "0.2013819217681884",
         "0.2375681400299072",
         "0.273961991071701",
         "0.5834039449691772",
         "-0.1538208127021789",
         "0.9558503031730652",
         "0.0980104133486747",
         "0.6132415533065796",
         "0.288443386554718",
         "0.4749679863452911",
         "0.0817256271839141",
         "0.6198449730873108",
         "-0.0729371234774589",
         "0.9678974151611328",
         "0.0610276237130165",
         "0.603839099407196",
         "0.2905195355415344",
         "0.6187694668769836",
         "0.0463246218860149",
         "0.6081509590148926",
         "-0.0753636509180069",
         "0.9585922956466676",
         "0.0982031971216201",
         "0.7163816690444946",
         "0.1886183768510818",
         "0.6860222220420837",
         "0.0844989195466041",
         "0.7248393893241882",
         "-0.2285195440053939",
         "0.952998161315918"
        ],
        [
         "3",
         "C",
         "0.7921713590621948",
         "0.5852246284484863",
         "-0.0674802735447883",
         "0.9995200634002686",
         "0.6826111078262329",
         "0.539690375328064",
         "0.2700201570987701",
         "0.9968660473823548",
         "0.68892902135849",
         "0.5595802664756775",
         "-0.3252220451831817",
         "0.9995166659355164",
         "0.6815811395645142",
         "0.7162718772888184",
         "0.2759442925453186",
         "0.2719449996948242",
         "0.6873891949653625",
         "0.7440547347068787",
         "-0.3570880591869354",
         "0.9730165004730223",
         "0.8119738698005676",
         "0.737045168876648",
         "0.0824896618723869",
         "0.2676527798175812",
         "0.816378653049469",
         "0.7507110238075256",
         "-0.1848087459802627",
         "0.9163430333137512",
         "0.4631652534008026",
         "0.5363156795501709",
         "0.1904280483722686",
         "0.9986808896064758",
         "0.4655843377113342",
         "0.5529884099960327",
         "-0.190309390425682",
         "0.9988451600074768",
         "0.2714437246322632",
         "0.5729661583900452",
         "0.2019379585981369",
         "0.2378924041986465",
         "0.2738581597805023",
         "0.5833958983421326",
         "-0.1533321589231491",
         "0.95598566532135",
         "0.0980543196201324",
         "0.6132537722587585",
         "0.2895445525646209",
         "0.4756050407886505",
         "0.0817004442214965",
         "0.6198551058769226",
         "-0.072176270186901",
         "0.9680106043815612",
         "0.0610780678689479",
         "0.6038482189178467",
         "0.2917074263095855",
         "0.6198555827140808",
         "0.046331338584423",
         "0.6081597805023193",
         "-0.0745455101132392",
         "0.9588828682899476",
         "0.0982389375567436",
         "0.7163742780685425",
         "0.1900581121444702",
         "0.6865357756614685",
         "0.0845327153801918",
         "0.724825918674469",
         "-0.2274773567914962",
         "0.9531118273735046"
        ],
        [
         "4",
         "C",
         "0.7921789884567261",
         "0.5852403044700623",
         "-0.0674601793289184",
         "0.9995216131210328",
         "0.6826071739196777",
         "0.5396971106529236",
         "0.2699143588542938",
         "0.9968673586845398",
         "0.6889321208000183",
         "0.5596015453338623",
         "-0.3253917694091797",
         "0.9995190501213074",
         "0.6815785765647888",
         "0.7162730097770691",
         "0.276245653629303",
         "0.2717124223709106",
         "0.6874029040336609",
         "0.7440558671951294",
         "-0.3571638166904449",
         "0.973075807094574",
         "0.8119983673095703",
         "0.7370983362197876",
         "0.0833464786410331",
         "0.2679652273654938",
         "0.8163883090019226",
         "0.750758171081543",
         "-0.1849676519632339",
         "0.916676104068756",
         "0.4631465077400207",
         "0.536339282989502",
         "0.1904474943876266",
         "0.9986867904663086",
         "0.4655624032020569",
         "0.5530309081077576",
         "-0.1903292089700698",
         "0.9988519549369812",
         "0.2714230418205261",
         "0.5729708075523376",
         "0.2024012207984924",
         "0.2380220741033554",
         "0.2737962901592254",
         "0.5833922624588013",
         "-0.1529687792062759",
         "0.9561184048652648",
         "0.0981098338961601",
         "0.6132634282112122",
         "0.2902997434139251",
         "0.4756394028663635",
         "0.0816800743341445",
         "0.6198635697364807",
         "-0.0716830193996429",
         "0.968147337436676",
         "0.0611971579492092",
         "0.6038514375686646",
         "0.2925163805484772",
         "0.6203653216362",
         "0.0463359653949737",
         "0.6081593036651611",
         "-0.0740286633372306",
         "0.9591840505599976",
         "0.0982819646596908",
         "0.7163645625114441",
         "0.1911306977272033",
         "0.6866111159324646",
         "0.0845560505986213",
         "0.72481369972229",
         "-0.2268120795488357",
         "0.953242301940918"
        ]
       ],
       "shape": {
        "columns": 69,
        "rows": 5
       }
      },
      "text/html": [
       "<div>\n",
       "<style scoped>\n",
       "    .dataframe tbody tr th:only-of-type {\n",
       "        vertical-align: middle;\n",
       "    }\n",
       "\n",
       "    .dataframe tbody tr th {\n",
       "        vertical-align: top;\n",
       "    }\n",
       "\n",
       "    .dataframe thead th {\n",
       "        text-align: right;\n",
       "    }\n",
       "</style>\n",
       "<table border=\"1\" class=\"dataframe\">\n",
       "  <thead>\n",
       "    <tr style=\"text-align: right;\">\n",
       "      <th></th>\n",
       "      <th>label</th>\n",
       "      <th>nose_x</th>\n",
       "      <th>nose_y</th>\n",
       "      <th>nose_z</th>\n",
       "      <th>nose_v</th>\n",
       "      <th>left_shoulder_x</th>\n",
       "      <th>left_shoulder_y</th>\n",
       "      <th>left_shoulder_z</th>\n",
       "      <th>left_shoulder_v</th>\n",
       "      <th>right_shoulder_x</th>\n",
       "      <th>...</th>\n",
       "      <th>right_heel_z</th>\n",
       "      <th>right_heel_v</th>\n",
       "      <th>left_foot_index_x</th>\n",
       "      <th>left_foot_index_y</th>\n",
       "      <th>left_foot_index_z</th>\n",
       "      <th>left_foot_index_v</th>\n",
       "      <th>right_foot_index_x</th>\n",
       "      <th>right_foot_index_y</th>\n",
       "      <th>right_foot_index_z</th>\n",
       "      <th>right_foot_index_v</th>\n",
       "    </tr>\n",
       "  </thead>\n",
       "  <tbody>\n",
       "    <tr>\n",
       "      <th>0</th>\n",
       "      <td>C</td>\n",
       "      <td>0.792141</td>\n",
       "      <td>0.585212</td>\n",
       "      <td>-0.067640</td>\n",
       "      <td>0.999518</td>\n",
       "      <td>0.682632</td>\n",
       "      <td>0.539670</td>\n",
       "      <td>0.270455</td>\n",
       "      <td>0.996880</td>\n",
       "      <td>0.688922</td>\n",
       "      <td>...</td>\n",
       "      <td>-0.077094</td>\n",
       "      <td>0.957863</td>\n",
       "      <td>0.098083</td>\n",
       "      <td>0.716431</td>\n",
       "      <td>0.186286</td>\n",
       "      <td>0.685353</td>\n",
       "      <td>0.084355</td>\n",
       "      <td>0.724885</td>\n",
       "      <td>-0.230562</td>\n",
       "      <td>0.952622</td>\n",
       "    </tr>\n",
       "    <tr>\n",
       "      <th>1</th>\n",
       "      <td>C</td>\n",
       "      <td>0.792153</td>\n",
       "      <td>0.585208</td>\n",
       "      <td>-0.067657</td>\n",
       "      <td>0.999518</td>\n",
       "      <td>0.682624</td>\n",
       "      <td>0.539675</td>\n",
       "      <td>0.270204</td>\n",
       "      <td>0.996868</td>\n",
       "      <td>0.688926</td>\n",
       "      <td>...</td>\n",
       "      <td>-0.075767</td>\n",
       "      <td>0.958398</td>\n",
       "      <td>0.098175</td>\n",
       "      <td>0.716389</td>\n",
       "      <td>0.188317</td>\n",
       "      <td>0.685743</td>\n",
       "      <td>0.084443</td>\n",
       "      <td>0.724854</td>\n",
       "      <td>-0.228939</td>\n",
       "      <td>0.952915</td>\n",
       "    </tr>\n",
       "    <tr>\n",
       "      <th>2</th>\n",
       "      <td>C</td>\n",
       "      <td>0.792160</td>\n",
       "      <td>0.585211</td>\n",
       "      <td>-0.067602</td>\n",
       "      <td>0.999519</td>\n",
       "      <td>0.682617</td>\n",
       "      <td>0.539684</td>\n",
       "      <td>0.270091</td>\n",
       "      <td>0.996864</td>\n",
       "      <td>0.688927</td>\n",
       "      <td>...</td>\n",
       "      <td>-0.075364</td>\n",
       "      <td>0.958592</td>\n",
       "      <td>0.098203</td>\n",
       "      <td>0.716382</td>\n",
       "      <td>0.188618</td>\n",
       "      <td>0.686022</td>\n",
       "      <td>0.084499</td>\n",
       "      <td>0.724839</td>\n",
       "      <td>-0.228520</td>\n",
       "      <td>0.952998</td>\n",
       "    </tr>\n",
       "    <tr>\n",
       "      <th>3</th>\n",
       "      <td>C</td>\n",
       "      <td>0.792171</td>\n",
       "      <td>0.585225</td>\n",
       "      <td>-0.067480</td>\n",
       "      <td>0.999520</td>\n",
       "      <td>0.682611</td>\n",
       "      <td>0.539690</td>\n",
       "      <td>0.270020</td>\n",
       "      <td>0.996866</td>\n",
       "      <td>0.688929</td>\n",
       "      <td>...</td>\n",
       "      <td>-0.074546</td>\n",
       "      <td>0.958883</td>\n",
       "      <td>0.098239</td>\n",
       "      <td>0.716374</td>\n",
       "      <td>0.190058</td>\n",
       "      <td>0.686536</td>\n",
       "      <td>0.084533</td>\n",
       "      <td>0.724826</td>\n",
       "      <td>-0.227477</td>\n",
       "      <td>0.953112</td>\n",
       "    </tr>\n",
       "    <tr>\n",
       "      <th>4</th>\n",
       "      <td>C</td>\n",
       "      <td>0.792179</td>\n",
       "      <td>0.585240</td>\n",
       "      <td>-0.067460</td>\n",
       "      <td>0.999522</td>\n",
       "      <td>0.682607</td>\n",
       "      <td>0.539697</td>\n",
       "      <td>0.269914</td>\n",
       "      <td>0.996867</td>\n",
       "      <td>0.688932</td>\n",
       "      <td>...</td>\n",
       "      <td>-0.074029</td>\n",
       "      <td>0.959184</td>\n",
       "      <td>0.098282</td>\n",
       "      <td>0.716365</td>\n",
       "      <td>0.191131</td>\n",
       "      <td>0.686611</td>\n",
       "      <td>0.084556</td>\n",
       "      <td>0.724814</td>\n",
       "      <td>-0.226812</td>\n",
       "      <td>0.953242</td>\n",
       "    </tr>\n",
       "  </tbody>\n",
       "</table>\n",
       "<p>5 rows × 69 columns</p>\n",
       "</div>"
      ],
      "text/plain": [
       "  label    nose_x    nose_y    nose_z    nose_v  left_shoulder_x  \\\n",
       "0     C  0.792141  0.585212 -0.067640  0.999518         0.682632   \n",
       "1     C  0.792153  0.585208 -0.067657  0.999518         0.682624   \n",
       "2     C  0.792160  0.585211 -0.067602  0.999519         0.682617   \n",
       "3     C  0.792171  0.585225 -0.067480  0.999520         0.682611   \n",
       "4     C  0.792179  0.585240 -0.067460  0.999522         0.682607   \n",
       "\n",
       "   left_shoulder_y  left_shoulder_z  left_shoulder_v  right_shoulder_x  ...  \\\n",
       "0         0.539670         0.270455         0.996880          0.688922  ...   \n",
       "1         0.539675         0.270204         0.996868          0.688926  ...   \n",
       "2         0.539684         0.270091         0.996864          0.688927  ...   \n",
       "3         0.539690         0.270020         0.996866          0.688929  ...   \n",
       "4         0.539697         0.269914         0.996867          0.688932  ...   \n",
       "\n",
       "   right_heel_z  right_heel_v  left_foot_index_x  left_foot_index_y  \\\n",
       "0     -0.077094      0.957863           0.098083           0.716431   \n",
       "1     -0.075767      0.958398           0.098175           0.716389   \n",
       "2     -0.075364      0.958592           0.098203           0.716382   \n",
       "3     -0.074546      0.958883           0.098239           0.716374   \n",
       "4     -0.074029      0.959184           0.098282           0.716365   \n",
       "\n",
       "   left_foot_index_z  left_foot_index_v  right_foot_index_x  \\\n",
       "0           0.186286           0.685353            0.084355   \n",
       "1           0.188317           0.685743            0.084443   \n",
       "2           0.188618           0.686022            0.084499   \n",
       "3           0.190058           0.686536            0.084533   \n",
       "4           0.191131           0.686611            0.084556   \n",
       "\n",
       "   right_foot_index_y  right_foot_index_z  right_foot_index_v  \n",
       "0            0.724885           -0.230562            0.952622  \n",
       "1            0.724854           -0.228939            0.952915  \n",
       "2            0.724839           -0.228520            0.952998  \n",
       "3            0.724826           -0.227477            0.953112  \n",
       "4            0.724814           -0.226812            0.953242  \n",
       "\n",
       "[5 rows x 69 columns]"
      ]
     },
     "metadata": {},
     "output_type": "display_data"
    },
    {
     "name": "stdout",
     "output_type": "stream",
     "text": [
      "\n",
      "Info:\n",
      "<class 'pandas.core.frame.DataFrame'>\n",
      "RangeIndex: 28520 entries, 0 to 28519\n",
      "Columns: 69 entries, label to right_foot_index_v\n",
      "dtypes: float64(68), object(1)\n",
      "memory usage: 15.0+ MB\n",
      "\n",
      "Descriptive Statistics (Label and first 5 landmark columns):\n"
     ]
    },
    {
     "data": {
      "application/vnd.microsoft.datawrangler.viewer.v0+json": {
       "columns": [
        {
         "name": "index",
         "rawType": "object",
         "type": "string"
        },
        {
         "name": "count",
         "rawType": "float64",
         "type": "float"
        },
        {
         "name": "mean",
         "rawType": "float64",
         "type": "float"
        },
        {
         "name": "std",
         "rawType": "float64",
         "type": "float"
        },
        {
         "name": "min",
         "rawType": "float64",
         "type": "float"
        },
        {
         "name": "25%",
         "rawType": "float64",
         "type": "float"
        },
        {
         "name": "50%",
         "rawType": "float64",
         "type": "float"
        },
        {
         "name": "75%",
         "rawType": "float64",
         "type": "float"
        },
        {
         "name": "max",
         "rawType": "float64",
         "type": "float"
        }
       ],
       "ref": "69746b51-1dfb-4fa1-b76e-a9ea7ffc709d",
       "rows": [
        [
         "nose_x",
         "28520.0",
         "0.5102147815395068",
         "0.2717627565253954",
         "-0.0202054269611835",
         "0.21723012998700134",
         "0.5227692723274231",
         "0.7927300781011581",
         "0.9264634251594543"
        ],
        [
         "nose_y",
         "28520.0",
         "0.5812681846163885",
         "0.11076976793746757",
         "0.2821289002895355",
         "0.5131374001502991",
         "0.5788367390632629",
         "0.6556444764137268",
         "0.8216664791107178"
        ],
        [
         "nose_z",
         "28520.0",
         "-0.015778488499576995",
         "0.06996036170843768",
         "-0.6287180781364441",
         "-0.030574364587664524",
         "-0.0092713213525712",
         "0.013991879997774926",
         "0.2291248887777328"
        ],
        [
         "nose_v",
         "28520.0",
         "0.9993394711805929",
         "0.001281740491326377",
         "0.9835875034332277",
         "0.9993963539600372",
         "0.9998173415660858",
         "0.9999186992645264",
         "0.9999949932098388"
        ],
        [
         "left_shoulder_x",
         "28520.0",
         "0.4973111939113613",
         "0.21205059428011455",
         "0.0726216882467269",
         "0.27236500382423395",
         "0.5063568949699402",
         "0.7126704156398773",
         "0.8121004700660706"
        ]
       ],
       "shape": {
        "columns": 8,
        "rows": 5
       }
      },
      "text/html": [
       "<div>\n",
       "<style scoped>\n",
       "    .dataframe tbody tr th:only-of-type {\n",
       "        vertical-align: middle;\n",
       "    }\n",
       "\n",
       "    .dataframe tbody tr th {\n",
       "        vertical-align: top;\n",
       "    }\n",
       "\n",
       "    .dataframe thead th {\n",
       "        text-align: right;\n",
       "    }\n",
       "</style>\n",
       "<table border=\"1\" class=\"dataframe\">\n",
       "  <thead>\n",
       "    <tr style=\"text-align: right;\">\n",
       "      <th></th>\n",
       "      <th>count</th>\n",
       "      <th>mean</th>\n",
       "      <th>std</th>\n",
       "      <th>min</th>\n",
       "      <th>25%</th>\n",
       "      <th>50%</th>\n",
       "      <th>75%</th>\n",
       "      <th>max</th>\n",
       "    </tr>\n",
       "  </thead>\n",
       "  <tbody>\n",
       "    <tr>\n",
       "      <th>nose_x</th>\n",
       "      <td>28520.0</td>\n",
       "      <td>0.510215</td>\n",
       "      <td>0.271763</td>\n",
       "      <td>-0.020205</td>\n",
       "      <td>0.217230</td>\n",
       "      <td>0.522769</td>\n",
       "      <td>0.792730</td>\n",
       "      <td>0.926463</td>\n",
       "    </tr>\n",
       "    <tr>\n",
       "      <th>nose_y</th>\n",
       "      <td>28520.0</td>\n",
       "      <td>0.581268</td>\n",
       "      <td>0.110770</td>\n",
       "      <td>0.282129</td>\n",
       "      <td>0.513137</td>\n",
       "      <td>0.578837</td>\n",
       "      <td>0.655644</td>\n",
       "      <td>0.821666</td>\n",
       "    </tr>\n",
       "    <tr>\n",
       "      <th>nose_z</th>\n",
       "      <td>28520.0</td>\n",
       "      <td>-0.015778</td>\n",
       "      <td>0.069960</td>\n",
       "      <td>-0.628718</td>\n",
       "      <td>-0.030574</td>\n",
       "      <td>-0.009271</td>\n",
       "      <td>0.013992</td>\n",
       "      <td>0.229125</td>\n",
       "    </tr>\n",
       "    <tr>\n",
       "      <th>nose_v</th>\n",
       "      <td>28520.0</td>\n",
       "      <td>0.999339</td>\n",
       "      <td>0.001282</td>\n",
       "      <td>0.983588</td>\n",
       "      <td>0.999396</td>\n",
       "      <td>0.999817</td>\n",
       "      <td>0.999919</td>\n",
       "      <td>0.999995</td>\n",
       "    </tr>\n",
       "    <tr>\n",
       "      <th>left_shoulder_x</th>\n",
       "      <td>28520.0</td>\n",
       "      <td>0.497311</td>\n",
       "      <td>0.212051</td>\n",
       "      <td>0.072622</td>\n",
       "      <td>0.272365</td>\n",
       "      <td>0.506357</td>\n",
       "      <td>0.712670</td>\n",
       "      <td>0.812100</td>\n",
       "    </tr>\n",
       "  </tbody>\n",
       "</table>\n",
       "</div>"
      ],
      "text/plain": [
       "                   count      mean       std       min       25%       50%  \\\n",
       "nose_x           28520.0  0.510215  0.271763 -0.020205  0.217230  0.522769   \n",
       "nose_y           28520.0  0.581268  0.110770  0.282129  0.513137  0.578837   \n",
       "nose_z           28520.0 -0.015778  0.069960 -0.628718 -0.030574 -0.009271   \n",
       "nose_v           28520.0  0.999339  0.001282  0.983588  0.999396  0.999817   \n",
       "left_shoulder_x  28520.0  0.497311  0.212051  0.072622  0.272365  0.506357   \n",
       "\n",
       "                      75%       max  \n",
       "nose_x           0.792730  0.926463  \n",
       "nose_y           0.655644  0.821666  \n",
       "nose_z           0.013992  0.229125  \n",
       "nose_v           0.999919  0.999995  \n",
       "left_shoulder_x  0.712670  0.812100  "
      ]
     },
     "metadata": {},
     "output_type": "display_data"
    }
   ],
   "source": [
    "if not df_train_raw.empty:\n",
    "    print(\"--- Training Data ---_raw\")\n",
    "    print(\"\\nFirst 5 rows:\")\n",
    "    display(df_train_raw.head())\n",
    "    print(\"\\nInfo:\")\n",
    "    df_train_raw.info(verbose=False) # Use verbose=False for conciseness with many columns\n",
    "    print(\"\\nDescriptive Statistics (Label and first 5 landmark columns):\")\n",
    "    display(df_train_raw.iloc[:, :6].describe().T)\n",
    "else:\n",
    "    print(\"Training data is empty or not loaded.\")"
   ]
  },
  {
   "cell_type": "markdown",
   "id": "44694a71",
   "metadata": {},
   "source": [
    "## 1.3 Missing Value Analysis"
   ]
  },
  {
   "cell_type": "code",
   "execution_count": 11,
   "id": "2b1f479f",
   "metadata": {},
   "outputs": [
    {
     "name": "stdout",
     "output_type": "stream",
     "text": [
      "No missing values found in training data.\n"
     ]
    }
   ],
   "source": [
    "if not df_train_raw.empty:\n",
    "    missing_train = df_train_raw.isnull().sum()\n",
    "    missing_train = missing_train[missing_train > 0].sort_values(ascending=False)\n",
    "    if not missing_train.empty:\n",
    "        print(f\"Found {len(missing_train)} columns with missing values in the training data.\")\n",
    "        plt.figure(figsize=(12, 8))\n",
    "        sns.barplot(x=missing_train.values, y=missing_train.index[:30]) # Plot top 30\n",
    "        plt.title('Top 30 Columns with Missing Values (Training Data)')\n",
    "        plt.xlabel('Number of Missing Values')\n",
    "        plt.tight_layout()\n",
    "        plt.show()\n",
    "    else:\n",
    "        print(\"No missing values found in training data.\")"
   ]
  },
  {
   "cell_type": "markdown",
   "id": "7fa5442b",
   "metadata": {},
   "source": [
    "**Observation:** Missing values in landmark coordinates (`_x`, `_y`, `_z`) or visibility (`_v`) are expected. They occur when MediaPipe fails to detect a specific landmark in a frame. Our feature extraction logic will need to be robust to this."
   ]
  },
  {
   "cell_type": "markdown",
   "id": "42b97abc",
   "metadata": {},
   "source": [
    "## 1.4 Label Distribution"
   ]
  },
  {
   "cell_type": "code",
   "execution_count": 12,
   "id": "690487f8",
   "metadata": {},
   "outputs": [
    {
     "name": "stdout",
     "output_type": "stream",
     "text": [
      "--- Training Label Distribution ---\n",
      "label\n",
      "C    9904\n",
      "L    9546\n",
      "H    9070\n",
      "Name: count, dtype: int64\n",
      "\n",
      "--- Test Label Distribution ---\n",
      "label\n",
      "H    241\n",
      "L    235\n",
      "C    234\n",
      "Name: count, dtype: int64\n"
     ]
    },
    {
     "data": {
      "image/png": "[encoded data removed]",
      "text/plain": [
       "<Figure size 1400x500 with 2 Axes>"
      ]
     },
     "metadata": {},
     "output_type": "display_data"
    }
   ],
   "source": [
    "if not df_train_raw.empty and 'label' in df_train_raw.columns:\n",
    "    fig, axes = plt.subplots(1, 2, figsize=(14, 5))\n",
    "    label_map = {\"C\": \"Correct\", \"H\": \"Hips High\", \"L\": \"Hips Low\"}\n",
    "    \n",
    "    # Training Data\n",
    "    sns.countplot(ax=axes[0], x=df_train_raw['label'].map(label_map), order=label_map.values(), palette=\"viridis\")\n",
    "    axes[0].set_title('Label Distribution in Training Data')\n",
    "    axes[0].set_xlabel('Plank Form')\n",
    "    axes[0].set_ylabel('Count')\n",
    "    print(\"--- Training Label Distribution ---\")\n",
    "    print(df_train_raw['label'].value_counts())\n",
    "    \n",
    "    # Test Data\n",
    "    if not df_test_raw.empty and 'label' in df_test_raw.columns:\n",
    "        sns.countplot(ax=axes[1], x=df_test_raw['label'].map(label_map), order=label_map.values(), palette=\"magma\")\n",
    "        axes[1].set_title('Label Distribution in Test Data')\n",
    "        axes[1].set_xlabel('Plank Form')\n",
    "        axes[1].set_ylabel('Count')\n",
    "        print(\"\\n--- Test Label Distribution ---\")\n",
    "        print(df_test_raw['label'].value_counts())\n",
    "    \n",
    "    plt.tight_layout()\n",
    "    plt.show()\n",
    "else:\n",
    "    print(\"Label column not found or data empty.\")"
   ]
  },
  {
   "cell_type": "markdown",
   "id": "3a6288a1",
   "metadata": {},
   "source": [
    "**Observation:** We can see the number of samples for each class. It's important to check for significant class imbalance, which could bias the model. Using `class_weight='balanced'` during training is a good strategy to mitigate this."
   ]
  },
  {
   "cell_type": "markdown",
   "id": "23591a32",
   "metadata": {},
   "source": [
    "## 1.5 Visibility Score Distribution"
   ]
  },
  {
   "cell_type": "code",
   "execution_count": 13,
   "id": "c993f650",
   "metadata": {},
   "outputs": [
    {
     "name": "stdout",
     "output_type": "stream",
     "text": [
      "Analyzing 17 visibility columns.\n"
     ]
    },
    {
     "data": {
      "image/png": "[encoded data removed]",
      "text/plain": [
       "<Figure size 2000x2000 with 36 Axes>"
      ]
     },
     "metadata": {},
     "output_type": "display_data"
    }
   ],
   "source": [
    "if not df_train_raw.empty:\n",
    "    visibility_cols = [col for col in df_train_raw.columns if col.endswith('_v')]\n",
    "    if visibility_cols:\n",
    "        print(f\"Analyzing {len(visibility_cols)} visibility columns.\")\n",
    "        df_train_raw[visibility_cols].plot(kind='hist', subplots=True, layout=(6, 6), figsize=(20, 20), \n",
    "                                            bins=20, alpha=0.8, title=\"Visibility Score Distributions\", legend=False)\n",
    "        plt.tight_layout()\n",
    "        plt.show()\n",
    "    else:\n",
    "        print(\"No visibility columns found.\")"
   ]
  },
  {
   "cell_type": "markdown",
   "id": "db13a7e5",
   "metadata": {},
   "source": [
    "**Observation:** Visibility scores range from 0 to 1. A score close to 1 indicates the landmark is clearly visible and tracked with high confidence. Low scores suggest occlusion or detection difficulty. We will use a visibility threshold during feature engineering to ensure we only use reliable landmarks for calculating angles and distances."
   ]
  },
  {
   "cell_type": "markdown",
   "id": "645f14f3",
   "metadata": {},
   "source": [
    "## 1.6 EDA Summary & Next Steps"
   ]
  },
  {
   "cell_type": "markdown",
   "id": "bb2c6d5a",
   "metadata": {},
   "source": [
    "This initial exploration has provided key insights:\n",
    "1.  **Data Structure:** The dataset consists of 33 landmarks, each with x, y, z, and visibility coordinates.\n",
    "2.  **Missing Data:** Missing values are present and expected; our processing pipeline must handle them.\n",
    "3.  **Labels:** We have three classes (`C`, `H`, `L`) for plank form. The distribution seems reasonably balanced, but using class weights is still advisable.\n",
    "4.  **Visibility:** The visibility scores vary across landmarks, confirming the need for a filtering threshold.\n",
    "\n",
    "**Next Steps (in `2_data_preprocessing_and_model_training.ipynb`):**\n",
    "1.  **Feature Engineering:** Extract meaningful geometric features (angles, distances) from the raw landmark data, using `GeometryUtils` and a visibility threshold.\n",
    "2.  **Model Training:** Create `scikit-learn` pipelines that include imputation, scaling, and the model itself.\n",
    "3.  **Evaluation:** Train and evaluate multiple models (Logistic Regression, KNN, RandomForest, etc.) to find the best performer.\n",
    "4.  **Model Saving:** Save the trained pipelines for future inference and deployment."
   ]
  }
 ],
 "metadata": {
  "kernelspec": {
   "display_name": "myenv",
   "language": "python",
   "name": "python3"
  },
  "language_info": {
   "codemirror_mode": {
    "name": "ipython",
    "version": 3
   },
   "file_extension": ".py",
   "mimetype": "text/x-python",
   "name": "python",
   "nbconvert_exporter": "python",
   "pygments_lexer": "ipython3",
   "version": "3.8.20"
  }
 },
 "nbformat": 4,
 "nbformat_minor": 5
}
