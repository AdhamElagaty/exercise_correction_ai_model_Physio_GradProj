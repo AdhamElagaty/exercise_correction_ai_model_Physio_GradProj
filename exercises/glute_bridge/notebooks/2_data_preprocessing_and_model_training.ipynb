{
 "cells": [
  {
   "cell_type": "markdown",
   "metadata": {},
   "source": [
    "# 2. Data Preprocessing, Augmentation, and Model Training - Glute Bridge\n",
    "\n",
    "**Objective:**\n",
    "1.  Define a robust feature extraction function using `GeometryUtils`.\n",
    "2.  Implement data augmentation to expand the small training dataset.\n",
    "3.  Create `scikit-learn` pipelines that combine a `StandardScaler` and a classifier.\n",
    "4.  Train and evaluate multiple classification algorithms using stratified k-fold cross-validation.\n",
    "5.  Select the best model and save the trained pipeline(s) to `.pkl` files."
   ]
  },
  {
   "cell_type": "code",
   "execution_count": null,
   "metadata": {},
   "outputs": [],
   "source": [
    "import pandas as pd\n",
    "import numpy as np\n",
    "import pickle\n",
    "import os\n",
    "import sys\n",
    "import matplotlib.pyplot as plt\n",
    "import seaborn as sns\n",
    "from tqdm import tqdm\n",
    "\n",
    "module_path = os.path.abspath(os.path.join('../../..'))\n",
    "if module_path not in sys.path:\n",
    "    sys.path.append(module_path)\n",
    "\n",
    "from utils.geometry_utils import GeometryUtils\n",
    "\n",
    "# Scikit-learn imports\n",
    "from sklearn.model_selection import StratifiedKFold, cross_val_score\n",
    "from sklearn.preprocessing import StandardScaler\n",
    "from sklearn.pipeline import Pipeline\n",
    "from sklearn.metrics import classification_report, accuracy_score, confusion_matrix, f1_score\n",
    "from sklearn.impute import SimpleImputer\n",
    "\n",
    "# Models\n",
    "from sklearn.linear_model import LogisticRegression\n",
    "from sklearn.neighbors import KNeighborsClassifier\n",
    "from sklearn.tree import DecisionTreeClassifier\n",
    "from sklearn.ensemble import RandomForestClassifier\n",
    "from xgboost import XGBClassifier\n",
    "\n",
    "import warnings\n",
    "warnings.filterwarnings('ignore')\n",
    "\n",
    "sns.set_theme(style=\"whitegrid\", palette=\"muted\")\n",
    "plt.rcParams['figure.figsize'] = (12, 6)"
   ]
  },
  {
   "cell_type": "markdown",
   "metadata": {},
   "source": [
    "## 2.1 Define Paths and Constants"
   ]
  },
  {
   "cell_type": "code",
   "execution_count": null,
   "metadata": {},
   "outputs": [],
   "source": [
    "\n",
    "BASE_DATA_PATH = \"../data/\"\n",
    "TRAIN_RAW_PATH = os.path.join(BASE_DATA_PATH, \"train.csv\")\n",
    "TEST_RAW_PATH = os.path.join(BASE_DATA_PATH, \"test.csv\")\n",
    "\n",
    "MODEL_PKL_DIR = \"../models/pkl/\"\n",
    "os.makedirs(MODEL_PKL_DIR, exist_ok=True)\n",
    "\n",
    "LANDMARK_NAMES = [\n",
    "    'nose', 'left_eye_inner', 'left_eye', 'left_eye_outer', 'right_eye_inner', 'right_eye', 'right_eye_outer',\n",
    "    'left_ear', 'right_ear', 'mouth_left', 'mouth_right', 'left_shoulder', 'right_shoulder', 'left_elbow',\n",
    "    'right_elbow', 'left_wrist', 'right_wrist', 'left_pinky', 'right_pinky', 'left_index', 'right_index',\n",
    "    'left_thumb', 'right_thumb', 'left_hip', 'right_hip', 'left_knee', 'right_knee', 'left_ankle',\n",
    "    'right_ankle', 'left_heel', 'right_heel', 'left_foot_index', 'right_foot_index'\n",
    "]\n",
    "\n",
    "FEATURE_COLUMN_NAMES = [\n",
    "    'left_elbow_angle', 'right_elbow_angle',\n",
    "    'left_shoulder_angle', 'right_shoulder_angle', # elbow-shoulder-hip\n",
    "    'left_hip_angle', 'right_hip_angle',           # shoulder-hip-knee (Trunk-Thigh angle)\n",
    "    'left_knee_angle', 'right_knee_angle',          # hip-knee-ankle\n",
    "    'left_body_align_angle', 'right_body_align_angle', # shoulder-hip-ankle (overall body line)\n",
    "    'left_hip_deviation', 'right_hip_deviation', # hip from shoulder-knee line\n",
    "    'shoulder_hip_y_diff_left', 'shoulder_hip_y_diff_right',\n",
    "    'hip_ankle_y_diff_left', 'hip_ankle_y_diff_right',\n",
    "    'torso_length_left', 'torso_length_right',      # shoulder-hip\n",
    "    'leg_length_left', 'leg_length_right'           # hip-ankle\n",
    "]\n",
    "\n",
    "geo_utils = GeometryUtils()"
   ]
  },
  {
   "cell_type": "markdown",
   "metadata": {},
   "source": [
    "## 2.2 Feature Extraction\n",
    "\n",
    "This function converts a row of landmark data into a dictionary of engineered features. It handles missing coordinates gracefully."
   ]
  },
  {
   "cell_type": "code",
   "execution_count": 3,
   "metadata": {},
   "outputs": [],
   "source": [
    "def extract_glute_bridge_features(row):\n",
    "    \"\"\"Processes a row from the raw DataFrame and extracts glute bridge features.\"\"\"\n",
    "    lm_coords = {name: [row.get(f'{name}_x', np.nan), row.get(f'{name}_y', np.nan)] for name in LANDMARK_NAMES}\n",
    "\n",
    "    def get_coord(name):\n",
    "        return lm_coords.get(name, [np.nan, np.nan])\n",
    "    \n",
    "    features = {}\n",
    "\n",
    "    # Angles\n",
    "    features['left_elbow_angle'] = geo_utils.calculate_angle(get_coord('left_shoulder'), get_coord('left_elbow'), get_coord('left_wrist'))\n",
    "    features['right_elbow_angle'] = geo_utils.calculate_angle(get_coord('right_shoulder'), get_coord('right_elbow'), get_coord('right_wrist'))\n",
    "    features['left_shoulder_angle'] = geo_utils.calculate_angle(get_coord('left_elbow'), get_coord('left_shoulder'), get_coord('left_hip'))\n",
    "    features['right_shoulder_angle'] = geo_utils.calculate_angle(get_coord('right_elbow'), get_coord('right_shoulder'), get_coord('right_hip'))\n",
    "    features['left_hip_angle'] = geo_utils.calculate_angle(get_coord('left_shoulder'), get_coord('left_hip'), get_coord('left_knee'))\n",
    "    features['right_hip_angle'] = geo_utils.calculate_angle(get_coord('right_shoulder'), get_coord('right_hip'), get_coord('right_knee'))\n",
    "    features['left_knee_angle'] = geo_utils.calculate_angle(get_coord('left_hip'), get_coord('left_knee'), get_coord('left_ankle'))\n",
    "    features['right_knee_angle'] = geo_utils.calculate_angle(get_coord('right_hip'), get_coord('right_knee'), get_coord('right_ankle'))\n",
    "    features['left_body_align_angle'] = geo_utils.calculate_angle(get_coord('left_shoulder'), get_coord('left_hip'), get_coord('left_ankle'))\n",
    "    features['right_body_align_angle'] = geo_utils.calculate_angle(get_coord('right_shoulder'), get_coord('right_hip'), get_coord('right_ankle'))\n",
    "    \n",
    "    # Deviations\n",
    "    features['left_hip_deviation'] = geo_utils.distance_point_to_line(get_coord('left_hip'), get_coord('left_shoulder'), get_coord('left_knee'))\n",
    "    features['right_hip_deviation'] = geo_utils.distance_point_to_line(get_coord('right_hip'), get_coord('right_shoulder'), get_coord('right_knee'))\n",
    "\n",
    "    # Vertical differences\n",
    "    ls_y, lh_y = get_coord('left_shoulder')[1], get_coord('left_hip')[1]\n",
    "    features['shoulder_hip_y_diff_left'] = abs(ls_y - lh_y) if not (np.isnan(ls_y) or np.isnan(lh_y)) else np.nan\n",
    "    rs_y, rh_y = get_coord('right_shoulder')[1], get_coord('right_hip')[1]\n",
    "    features['shoulder_hip_y_diff_right'] = abs(rs_y - rh_y) if not (np.isnan(rs_y) or np.isnan(rh_y)) else np.nan\n",
    "    la_y = get_coord('left_ankle')[1]\n",
    "    features['hip_ankle_y_diff_left'] = abs(lh_y - la_y) if not (np.isnan(lh_y) or np.isnan(la_y)) else np.nan\n",
    "    ra_y = get_coord('right_ankle')[1]\n",
    "    features['hip_ankle_y_diff_right'] = abs(rh_y - ra_y) if not (np.isnan(rh_y) or np.isnan(ra_y)) else np.nan\n",
    "\n",
    "    # Segment lengths\n",
    "    features['torso_length_left'] = geo_utils.calculate_distance(get_coord('left_shoulder'), get_coord('left_hip'))\n",
    "    features['torso_length_right'] = geo_utils.calculate_distance(get_coord('right_shoulder'), get_coord('right_hip'))\n",
    "    features['leg_length_left'] = geo_utils.calculate_distance(get_coord('left_hip'), get_coord('left_ankle'))\n",
    "    features['leg_length_right'] = geo_utils.calculate_distance(get_coord('right_hip'), get_coord('right_ankle'))\n",
    "    \n",
    "    return pd.Series(features)"
   ]
  },
  {
   "cell_type": "markdown",
   "metadata": {},
   "source": [
    "## 2.3 Data Augmentation\n",
    "\n",
    "Our dataset is very small. To create a more robust model, we will augment the training data by creating new samples. We'll apply small random transformations (noise, rotation, scaling) to the landmark coordinates and then recalculate the features."
   ]
  },
  {
   "cell_type": "code",
   "execution_count": 4,
   "metadata": {},
   "outputs": [],
   "source": [
    "def augment_landmarks(row, n_augmentations=10, noise_std=0.005, scale_range=0.05, rotation_range_deg=5):\n",
    "    \"\"\"Creates multiple augmented versions of a single landmark data row.\"\"\"\n",
    "    augmented_rows = []\n",
    "    \n",
    "    # Get original coordinates as a (33, 2) numpy array\n",
    "    original_coords = np.array([[row.get(f'{name}_x', np.nan), row.get(f'{name}_y', np.nan)] for name in LANDMARK_NAMES])\n",
    "    \n",
    "    # Find center of the pose for rotation/scaling\n",
    "    valid_coords = original_coords[~np.isnan(original_coords).any(axis=1)]\n",
    "    if len(valid_coords) == 0:\n",
    "        return [] # Cannot augment if no valid landmarks\n",
    "    center = np.mean(valid_coords, axis=0)\n",
    "\n",
    "    for _ in range(n_augmentations):\n",
    "        new_coords = original_coords.copy()\n",
    "        \n",
    "        # 1. Scaling\n",
    "        scale_factor = 1.0 + np.random.uniform(-scale_range, scale_range)\n",
    "        new_coords = center + scale_factor * (new_coords - center)\n",
    "\n",
    "        # 2. Rotation\n",
    "        angle_rad = np.deg2rad(np.random.uniform(-rotation_range_deg, rotation_range_deg))\n",
    "        c, s = np.cos(angle_rad), np.sin(angle_rad)\n",
    "        rotation_matrix = np.array([[c, -s], [s, c]])\n",
    "        new_coords = (rotation_matrix @ (new_coords - center).T).T + center\n",
    "\n",
    "        # 3. Noise (Jitter)\n",
    "        noise = np.random.normal(0, noise_std, new_coords.shape)\n",
    "        new_coords += noise\n",
    "        \n",
    "        # Create a new row (Series) from augmented coordinates\n",
    "        augmented_row_data = {}\n",
    "        for i, name in enumerate(LANDMARK_NAMES):\n",
    "            augmented_row_data[f'{name}_x'] = new_coords[i, 0]\n",
    "            augmented_row_data[f'{name}_y'] = new_coords[i, 1]\n",
    "            # Keep original visibility and z, though they aren't used in 2D features\n",
    "            augmented_row_data[f'{name}_z'] = row.get(f'{name}_z', np.nan)\n",
    "            augmented_row_data[f'{name}_v'] = row.get(f'{name}_v', 0.0)\n",
    "        \n",
    "        augmented_row_data['label'] = row['label']\n",
    "        augmented_rows.append(pd.Series(augmented_row_data))\n",
    "        \n",
    "    return augmented_rows"
   ]
  },
  {
   "cell_type": "markdown",
   "metadata": {},
   "source": [
    "## 2.4 Load, Augment, and Process Data"
   ]
  },
  {
   "cell_type": "code",
   "execution_count": 5,
   "metadata": {},
   "outputs": [
    {
     "name": "stdout",
     "output_type": "stream",
     "text": [
      "Original training data size: 159\n"
     ]
    },
    {
     "name": "stderr",
     "output_type": "stream",
     "text": [
      "Augmenting Data: 100%|██████████| 159/159 [00:01<00:00, 144.39it/s]\n"
     ]
    },
    {
     "name": "stdout",
     "output_type": "stream",
     "text": [
      "Combined (original + augmented) training data size: 2544\n",
      "\n",
      "Feature matrix X_train shape: (2544, 20)\n",
      "Feature matrix X_test shape: (29, 20)\n"
     ]
    },
    {
     "data": {
      "application/vnd.microsoft.datawrangler.viewer.v0+json": {
       "columns": [
        {
         "name": "index",
         "rawType": "int64",
         "type": "integer"
        },
        {
         "name": "left_elbow_angle",
         "rawType": "float64",
         "type": "float"
        },
        {
         "name": "right_elbow_angle",
         "rawType": "float64",
         "type": "float"
        },
        {
         "name": "left_shoulder_angle",
         "rawType": "float64",
         "type": "float"
        },
        {
         "name": "right_shoulder_angle",
         "rawType": "float64",
         "type": "float"
        },
        {
         "name": "left_hip_angle",
         "rawType": "float64",
         "type": "float"
        },
        {
         "name": "right_hip_angle",
         "rawType": "float64",
         "type": "float"
        },
        {
         "name": "left_knee_angle",
         "rawType": "float64",
         "type": "float"
        },
        {
         "name": "right_knee_angle",
         "rawType": "float64",
         "type": "float"
        },
        {
         "name": "left_body_align_angle",
         "rawType": "float64",
         "type": "float"
        },
        {
         "name": "right_body_align_angle",
         "rawType": "float64",
         "type": "float"
        },
        {
         "name": "left_hip_deviation",
         "rawType": "float64",
         "type": "float"
        },
        {
         "name": "right_hip_deviation",
         "rawType": "float64",
         "type": "float"
        },
        {
         "name": "shoulder_hip_y_diff_left",
         "rawType": "float64",
         "type": "float"
        },
        {
         "name": "shoulder_hip_y_diff_right",
         "rawType": "float64",
         "type": "float"
        },
        {
         "name": "hip_ankle_y_diff_left",
         "rawType": "float64",
         "type": "float"
        },
        {
         "name": "hip_ankle_y_diff_right",
         "rawType": "float64",
         "type": "float"
        },
        {
         "name": "torso_length_left",
         "rawType": "float64",
         "type": "float"
        },
        {
         "name": "torso_length_right",
         "rawType": "float64",
         "type": "float"
        },
        {
         "name": "leg_length_left",
         "rawType": "float64",
         "type": "float"
        },
        {
         "name": "leg_length_right",
         "rawType": "float64",
         "type": "float"
        }
       ],
       "ref": "c4f1e423-5be4-4a16-b064-46c88f74eb70",
       "rows": [
        [
         "0",
         "168.58192405825852",
         "172.5717712663454",
         "16.560592017486098",
         "33.573815168464485",
         "147.56324385318885",
         "150.05220478179348",
         "75.17031318315777",
         "77.3892843222818",
         "170.02663223801426",
         "165.52888930413877",
         "34.695017093713844",
         "35.84001148215206",
         "12.895409999999998",
         "21.124130000000008",
         "10.024619999999999",
         "16.716000000000008",
         "142.65305885766418",
         "156.02313271511056",
         "120.1267398537782",
         "143.49075386706141"
        ],
        [
         "1",
         "175.16683485065107",
         "175.27197559653723",
         "36.685464111149315",
         "33.428523941658455",
         "174.2456823166213",
         "172.54756999809337",
         "64.89222994226216",
         "71.94623076279468",
         "119.39866783837724",
         "123.78247045341085",
         "22.17402463891127",
         "26.32592679274912",
         "230.52059999999983",
         "202.12110000000007",
         "225.087",
         "199.20129999999995",
         "460.2652070586805",
         "416.36295707467787",
         "442.89012163119827",
         "436.1522106135963"
        ],
        [
         "2",
         "165.06959943901094",
         "164.78605653211298",
         "20.427325708155195",
         "12.606738273771441",
         "116.80329268133517",
         "113.58500460201307",
         "41.30709204000685",
         "44.28100977760903",
         "176.11163571221763",
         "174.37700428653457",
         "78.86304433311784",
         "70.59767042953567",
         "11.390929999999997",
         "5.119129999999984",
         "0.0865699999999947",
         "5.645169999999979",
         "170.278181065066",
         "155.2426146907897",
         "94.2248597685202",
         "86.69847129153433"
        ],
        [
         "3",
         "166.88747519674644",
         "172.1330434609154",
         "26.633546615865555",
         "8.34811498172058",
         "119.93087640948063",
         "119.25495578109441",
         "55.64435848856046",
         "59.75764964464364",
         "172.52235435163905",
         "174.79066759072523",
         "58.71175559011489",
         "53.28089091354378",
         "7.627600000000001",
         "1.8515999999999906",
         "17.983810000000005",
         "6.848500000000001",
         "126.96152276952297",
         "118.35544447249397",
         "94.91569026775396",
         "91.06576207524097"
        ],
        [
         "4",
         "160.74820281697887",
         "157.87215648081408",
         "39.83416291325227",
         "15.524737514133278",
         "159.33465907072105",
         "155.02043757411099",
         "68.44386246039275",
         "73.99283833075485",
         "151.49350173358758",
         "158.16890631189838",
         "46.77116351836904",
         "51.08789299462358",
         "34.394600000000025",
         "18.049069999999972",
         "93.99006000000003",
         "79.56223999999997",
         "278.3021850949244",
         "235.09280574490103",
         "257.51002468339675",
         "265.6450942932845"
        ]
       ],
       "shape": {
        "columns": 20,
        "rows": 5
       }
      },
      "text/html": [
       "<div>\n",
       "<style scoped>\n",
       "    .dataframe tbody tr th:only-of-type {\n",
       "        vertical-align: middle;\n",
       "    }\n",
       "\n",
       "    .dataframe tbody tr th {\n",
       "        vertical-align: top;\n",
       "    }\n",
       "\n",
       "    .dataframe thead th {\n",
       "        text-align: right;\n",
       "    }\n",
       "</style>\n",
       "<table border=\"1\" class=\"dataframe\">\n",
       "  <thead>\n",
       "    <tr style=\"text-align: right;\">\n",
       "      <th></th>\n",
       "      <th>left_elbow_angle</th>\n",
       "      <th>right_elbow_angle</th>\n",
       "      <th>left_shoulder_angle</th>\n",
       "      <th>right_shoulder_angle</th>\n",
       "      <th>left_hip_angle</th>\n",
       "      <th>right_hip_angle</th>\n",
       "      <th>left_knee_angle</th>\n",
       "      <th>right_knee_angle</th>\n",
       "      <th>left_body_align_angle</th>\n",
       "      <th>right_body_align_angle</th>\n",
       "      <th>left_hip_deviation</th>\n",
       "      <th>right_hip_deviation</th>\n",
       "      <th>shoulder_hip_y_diff_left</th>\n",
       "      <th>shoulder_hip_y_diff_right</th>\n",
       "      <th>hip_ankle_y_diff_left</th>\n",
       "      <th>hip_ankle_y_diff_right</th>\n",
       "      <th>torso_length_left</th>\n",
       "      <th>torso_length_right</th>\n",
       "      <th>leg_length_left</th>\n",
       "      <th>leg_length_right</th>\n",
       "    </tr>\n",
       "  </thead>\n",
       "  <tbody>\n",
       "    <tr>\n",
       "      <th>0</th>\n",
       "      <td>168.581924</td>\n",
       "      <td>172.571771</td>\n",
       "      <td>16.560592</td>\n",
       "      <td>33.573815</td>\n",
       "      <td>147.563244</td>\n",
       "      <td>150.052205</td>\n",
       "      <td>75.170313</td>\n",
       "      <td>77.389284</td>\n",
       "      <td>170.026632</td>\n",
       "      <td>165.528889</td>\n",
       "      <td>34.695017</td>\n",
       "      <td>35.840011</td>\n",
       "      <td>12.89541</td>\n",
       "      <td>21.12413</td>\n",
       "      <td>10.02462</td>\n",
       "      <td>16.71600</td>\n",
       "      <td>142.653059</td>\n",
       "      <td>156.023133</td>\n",
       "      <td>120.126740</td>\n",
       "      <td>143.490754</td>\n",
       "    </tr>\n",
       "    <tr>\n",
       "      <th>1</th>\n",
       "      <td>175.166835</td>\n",
       "      <td>175.271976</td>\n",
       "      <td>36.685464</td>\n",
       "      <td>33.428524</td>\n",
       "      <td>174.245682</td>\n",
       "      <td>172.547570</td>\n",
       "      <td>64.892230</td>\n",
       "      <td>71.946231</td>\n",
       "      <td>119.398668</td>\n",
       "      <td>123.782470</td>\n",
       "      <td>22.174025</td>\n",
       "      <td>26.325927</td>\n",
       "      <td>230.52060</td>\n",
       "      <td>202.12110</td>\n",
       "      <td>225.08700</td>\n",
       "      <td>199.20130</td>\n",
       "      <td>460.265207</td>\n",
       "      <td>416.362957</td>\n",
       "      <td>442.890122</td>\n",
       "      <td>436.152211</td>\n",
       "    </tr>\n",
       "    <tr>\n",
       "      <th>2</th>\n",
       "      <td>165.069599</td>\n",
       "      <td>164.786057</td>\n",
       "      <td>20.427326</td>\n",
       "      <td>12.606738</td>\n",
       "      <td>116.803293</td>\n",
       "      <td>113.585005</td>\n",
       "      <td>41.307092</td>\n",
       "      <td>44.281010</td>\n",
       "      <td>176.111636</td>\n",
       "      <td>174.377004</td>\n",
       "      <td>78.863044</td>\n",
       "      <td>70.597670</td>\n",
       "      <td>11.39093</td>\n",
       "      <td>5.11913</td>\n",
       "      <td>0.08657</td>\n",
       "      <td>5.64517</td>\n",
       "      <td>170.278181</td>\n",
       "      <td>155.242615</td>\n",
       "      <td>94.224860</td>\n",
       "      <td>86.698471</td>\n",
       "    </tr>\n",
       "    <tr>\n",
       "      <th>3</th>\n",
       "      <td>166.887475</td>\n",
       "      <td>172.133043</td>\n",
       "      <td>26.633547</td>\n",
       "      <td>8.348115</td>\n",
       "      <td>119.930876</td>\n",
       "      <td>119.254956</td>\n",
       "      <td>55.644358</td>\n",
       "      <td>59.757650</td>\n",
       "      <td>172.522354</td>\n",
       "      <td>174.790668</td>\n",
       "      <td>58.711756</td>\n",
       "      <td>53.280891</td>\n",
       "      <td>7.62760</td>\n",
       "      <td>1.85160</td>\n",
       "      <td>17.98381</td>\n",
       "      <td>6.84850</td>\n",
       "      <td>126.961523</td>\n",
       "      <td>118.355444</td>\n",
       "      <td>94.915690</td>\n",
       "      <td>91.065762</td>\n",
       "    </tr>\n",
       "    <tr>\n",
       "      <th>4</th>\n",
       "      <td>160.748203</td>\n",
       "      <td>157.872156</td>\n",
       "      <td>39.834163</td>\n",
       "      <td>15.524738</td>\n",
       "      <td>159.334659</td>\n",
       "      <td>155.020438</td>\n",
       "      <td>68.443862</td>\n",
       "      <td>73.992838</td>\n",
       "      <td>151.493502</td>\n",
       "      <td>158.168906</td>\n",
       "      <td>46.771164</td>\n",
       "      <td>51.087893</td>\n",
       "      <td>34.39460</td>\n",
       "      <td>18.04907</td>\n",
       "      <td>93.99006</td>\n",
       "      <td>79.56224</td>\n",
       "      <td>278.302185</td>\n",
       "      <td>235.092806</td>\n",
       "      <td>257.510025</td>\n",
       "      <td>265.645094</td>\n",
       "    </tr>\n",
       "  </tbody>\n",
       "</table>\n",
       "</div>"
      ],
      "text/plain": [
       "   left_elbow_angle  right_elbow_angle  left_shoulder_angle  \\\n",
       "0        168.581924         172.571771            16.560592   \n",
       "1        175.166835         175.271976            36.685464   \n",
       "2        165.069599         164.786057            20.427326   \n",
       "3        166.887475         172.133043            26.633547   \n",
       "4        160.748203         157.872156            39.834163   \n",
       "\n",
       "   right_shoulder_angle  left_hip_angle  right_hip_angle  left_knee_angle  \\\n",
       "0             33.573815      147.563244       150.052205        75.170313   \n",
       "1             33.428524      174.245682       172.547570        64.892230   \n",
       "2             12.606738      116.803293       113.585005        41.307092   \n",
       "3              8.348115      119.930876       119.254956        55.644358   \n",
       "4             15.524738      159.334659       155.020438        68.443862   \n",
       "\n",
       "   right_knee_angle  left_body_align_angle  right_body_align_angle  \\\n",
       "0         77.389284             170.026632              165.528889   \n",
       "1         71.946231             119.398668              123.782470   \n",
       "2         44.281010             176.111636              174.377004   \n",
       "3         59.757650             172.522354              174.790668   \n",
       "4         73.992838             151.493502              158.168906   \n",
       "\n",
       "   left_hip_deviation  right_hip_deviation  shoulder_hip_y_diff_left  \\\n",
       "0           34.695017            35.840011                  12.89541   \n",
       "1           22.174025            26.325927                 230.52060   \n",
       "2           78.863044            70.597670                  11.39093   \n",
       "3           58.711756            53.280891                   7.62760   \n",
       "4           46.771164            51.087893                  34.39460   \n",
       "\n",
       "   shoulder_hip_y_diff_right  hip_ankle_y_diff_left  hip_ankle_y_diff_right  \\\n",
       "0                   21.12413               10.02462                16.71600   \n",
       "1                  202.12110              225.08700               199.20130   \n",
       "2                    5.11913                0.08657                 5.64517   \n",
       "3                    1.85160               17.98381                 6.84850   \n",
       "4                   18.04907               93.99006                79.56224   \n",
       "\n",
       "   torso_length_left  torso_length_right  leg_length_left  leg_length_right  \n",
       "0         142.653059          156.023133       120.126740        143.490754  \n",
       "1         460.265207          416.362957       442.890122        436.152211  \n",
       "2         170.278181          155.242615        94.224860         86.698471  \n",
       "3         126.961523          118.355444        94.915690         91.065762  \n",
       "4         278.302185          235.092806       257.510025        265.645094  "
      ]
     },
     "metadata": {},
     "output_type": "display_data"
    },
    {
     "data": {
      "application/vnd.microsoft.datawrangler.viewer.v0+json": {
       "columns": [
        {
         "name": "index",
         "rawType": "int64",
         "type": "integer"
        },
        {
         "name": "label",
         "rawType": "int64",
         "type": "integer"
        }
       ],
       "ref": "bee7df4a-f6ee-438d-a49d-7add5304918c",
       "rows": [
        [
         "0",
         "0"
        ],
        [
         "1",
         "1"
        ],
        [
         "2",
         "0"
        ],
        [
         "3",
         "0"
        ],
        [
         "4",
         "1"
        ]
       ],
       "shape": {
        "columns": 1,
        "rows": 5
       }
      },
      "text/plain": [
       "0    0\n",
       "1    1\n",
       "2    0\n",
       "3    0\n",
       "4    1\n",
       "Name: label, dtype: int64"
      ]
     },
     "metadata": {},
     "output_type": "display_data"
    }
   ],
   "source": [
    "# Load raw data\n",
    "try:\n",
    "    df_train_raw = pd.read_csv(TRAIN_RAW_PATH)\n",
    "    df_test_raw = pd.read_csv(TEST_RAW_PATH)\n",
    "except FileNotFoundError:\n",
    "    print(\"Error: Data files not found. Halting execution.\")\n",
    "    # In a real script, you'd exit here. For a notebook, we'll stop this cell.\n",
    "    assert False, \"Data files not found\"\n",
    "\n",
    "# --- Augment Training Data ---\n",
    "print(f\"Original training data size: {len(df_train_raw)}\")\n",
    "augmented_data_list = []\n",
    "for _, row in tqdm(df_train_raw.iterrows(), total=len(df_train_raw), desc=\"Augmenting Data\"):\n",
    "    augmented_data_list.extend(augment_landmarks(row, n_augmentations=15))\n",
    "\n",
    "df_train_augmented_raw = pd.DataFrame(augmented_data_list)\n",
    "# Combine original and augmented data\n",
    "df_train_combined_raw = pd.concat([df_train_raw, df_train_augmented_raw], ignore_index=True)\n",
    "print(f\"Combined (original + augmented) training data size: {len(df_train_combined_raw)}\")\n",
    "\n",
    "# --- Feature Extraction ---\n",
    "# Apply feature extraction to the combined training data and the original test data\n",
    "X_train = df_train_combined_raw.apply(extract_glute_bridge_features, axis=1)\n",
    "y_train = df_train_combined_raw['label'].map({\"glute_bridge_down\": 0, \"glute_bridge_up\": 1})\n",
    "\n",
    "X_test = df_test_raw.apply(extract_glute_bridge_features, axis=1)\n",
    "y_test = df_test_raw['label'].map({\"glute_bridge_down\": 0, \"glute_bridge_up\": 1})\n",
    "\n",
    "print(f\"\\nFeature matrix X_train shape: {X_train.shape}\")\n",
    "print(f\"Feature matrix X_test shape: {X_test.shape}\")\n",
    "display(X_train.head())\n",
    "display(y_train.head())"
   ]
  },
  {
   "cell_type": "markdown",
   "metadata": {},
   "source": [
    "## 2.5 Model Training and Evaluation\n",
    "\n",
    "We will now define our model pipelines. Each pipeline will consist of:\n",
    "1.  `SimpleImputer`: To handle any `NaN` values that might result from feature extraction (e.g., if a key landmark was missing).\n",
    "2.  `StandardScaler`: To scale features to have zero mean and unit variance. **This is kept inside the pipeline.**\n",
    "3.  **Classifier**: The actual machine learning model.\n",
    "\n",
    "We will evaluate these pipelines using a 5-fold stratified cross-validation strategy to get a robust estimate of their performance on unseen data."
   ]
  },
  {
   "cell_type": "code",
   "execution_count": 6,
   "metadata": {},
   "outputs": [
    {
     "name": "stderr",
     "output_type": "stream",
     "text": [
      "Evaluating Models: 100%|██████████| 5/5 [00:07<00:00,  1.49s/it]"
     ]
    },
    {
     "name": "stdout",
     "output_type": "stream",
     "text": [
      "--- Cross-Validation Results ---\n"
     ]
    },
    {
     "name": "stderr",
     "output_type": "stream",
     "text": [
      "\n"
     ]
    },
    {
     "data": {
      "application/vnd.microsoft.datawrangler.viewer.v0+json": {
       "columns": [
        {
         "name": "index",
         "rawType": "int64",
         "type": "integer"
        },
        {
         "name": "Model",
         "rawType": "object",
         "type": "string"
        },
        {
         "name": "F1 Macro (mean)",
         "rawType": "float64",
         "type": "float"
        }
       ],
       "ref": "b5a3202f-02ef-4e21-91b1-8ccc85c36e89",
       "rows": [
        [
         "0",
         "LR",
         "1.0"
        ],
        [
         "1",
         "KNN",
         "1.0"
        ],
        [
         "2",
         "DT",
         "1.0"
        ],
        [
         "3",
         "RF",
         "1.0"
        ],
        [
         "4",
         "XGB",
         "1.0"
        ]
       ],
       "shape": {
        "columns": 2,
        "rows": 5
       }
      },
      "text/html": [
       "<div>\n",
       "<style scoped>\n",
       "    .dataframe tbody tr th:only-of-type {\n",
       "        vertical-align: middle;\n",
       "    }\n",
       "\n",
       "    .dataframe tbody tr th {\n",
       "        vertical-align: top;\n",
       "    }\n",
       "\n",
       "    .dataframe thead th {\n",
       "        text-align: right;\n",
       "    }\n",
       "</style>\n",
       "<table border=\"1\" class=\"dataframe\">\n",
       "  <thead>\n",
       "    <tr style=\"text-align: right;\">\n",
       "      <th></th>\n",
       "      <th>Model</th>\n",
       "      <th>F1 Macro (mean)</th>\n",
       "    </tr>\n",
       "  </thead>\n",
       "  <tbody>\n",
       "    <tr>\n",
       "      <th>0</th>\n",
       "      <td>LR</td>\n",
       "      <td>1.0</td>\n",
       "    </tr>\n",
       "    <tr>\n",
       "      <th>1</th>\n",
       "      <td>KNN</td>\n",
       "      <td>1.0</td>\n",
       "    </tr>\n",
       "    <tr>\n",
       "      <th>2</th>\n",
       "      <td>DT</td>\n",
       "      <td>1.0</td>\n",
       "    </tr>\n",
       "    <tr>\n",
       "      <th>3</th>\n",
       "      <td>RF</td>\n",
       "      <td>1.0</td>\n",
       "    </tr>\n",
       "    <tr>\n",
       "      <th>4</th>\n",
       "      <td>XGB</td>\n",
       "      <td>1.0</td>\n",
       "    </tr>\n",
       "  </tbody>\n",
       "</table>\n",
       "</div>"
      ],
      "text/plain": [
       "  Model  F1 Macro (mean)\n",
       "0    LR              1.0\n",
       "1   KNN              1.0\n",
       "2    DT              1.0\n",
       "3    RF              1.0\n",
       "4   XGB              1.0"
      ]
     },
     "metadata": {},
     "output_type": "display_data"
    }
   ],
   "source": [
    "pipelines = {\n",
    "    \"LR\": Pipeline([\n",
    "        ('imputer', SimpleImputer(strategy='median')),\n",
    "        ('scaler', StandardScaler()),\n",
    "        ('model', LogisticRegression(random_state=42, class_weight='balanced', max_iter=1000))\n",
    "    ]),\n",
    "    \"KNN\": Pipeline([\n",
    "        ('imputer', SimpleImputer(strategy='median')),\n",
    "        ('scaler', StandardScaler()),\n",
    "        ('model', KNeighborsClassifier(n_neighbors=7))\n",
    "    ]),\n",
    "    \"DT\": Pipeline([\n",
    "        ('imputer', SimpleImputer(strategy='median')),\n",
    "        ('scaler', StandardScaler()),\n",
    "        ('model', DecisionTreeClassifier(random_state=42, class_weight='balanced'))\n",
    "    ]),\n",
    "    \"RF\": Pipeline([\n",
    "        ('imputer', SimpleImputer(strategy='median')),\n",
    "        ('scaler', StandardScaler()),\n",
    "        ('model', RandomForestClassifier(random_state=42, class_weight='balanced', n_estimators=100))\n",
    "    ]),\n",
    "    \"XGB\": Pipeline([\n",
    "        ('imputer', SimpleImputer(strategy='median')),\n",
    "        ('scaler', StandardScaler()),\n",
    "        ('model', XGBClassifier(random_state=42, use_label_encoder=False, eval_metric='logloss'))\n",
    "    ])\n",
    "}\n",
    "\n",
    "cv = StratifiedKFold(n_splits=5, shuffle=True, random_state=42)\n",
    "results = []\n",
    "\n",
    "for name, pipe in tqdm(pipelines.items(), desc=\"Evaluating Models\"):\n",
    "    f1_scores = cross_val_score(pipe, X_train, y_train, cv=cv, scoring='f1_macro', n_jobs=-1)\n",
    "    \n",
    "    results.append({\n",
    "        'Model': name,\n",
    "        'F1 Macro (mean)': f1_scores.mean()\n",
    "    })\n",
    "\n",
    "results_df = pd.DataFrame(results).sort_values(by='F1 Macro (mean)', ascending=False)\n",
    "\n",
    "print(\"--- Cross-Validation Results ---\")\n",
    "display(results_df)"
   ]
  },
  {
   "cell_type": "markdown",
   "metadata": {},
   "source": [
    "## 2.6 Final Model Training and Evaluation\n",
    "\n",
    "The cross-validation gives us a good estimate of model performance. We will now train **all** our candidate models on the **entire augmented training dataset**. After training, we will evaluate each model's performance on the held-out test set to see how they generalize. Finally, we will save all trained models in a dictionary and also save a single, user-selected model for direct use in our application."
   ]
  },
  {
   "cell_type": "code",
   "execution_count": 7,
   "metadata": {},
   "outputs": [
    {
     "name": "stdout",
     "output_type": "stream",
     "text": [
      "--- Training all models on the full augmented dataset ---\n"
     ]
    },
    {
     "name": "stderr",
     "output_type": "stream",
     "text": [
      "Training All Models: 100%|██████████| 5/5 [00:00<00:00,  8.58it/s]\n"
     ]
    },
    {
     "name": "stdout",
     "output_type": "stream",
     "text": [
      "All models trained successfully.\n",
      "\n",
      "--- Evaluating all models on the unseen test data ---\n"
     ]
    },
    {
     "data": {
      "application/vnd.microsoft.datawrangler.viewer.v0+json": {
       "columns": [
        {
         "name": "index",
         "rawType": "int64",
         "type": "integer"
        },
        {
         "name": "Model",
         "rawType": "object",
         "type": "string"
        },
        {
         "name": "Test Accuracy",
         "rawType": "float64",
         "type": "float"
        },
        {
         "name": "Test F1 Macro",
         "rawType": "float64",
         "type": "float"
        }
       ],
       "ref": "22a0e976-01f3-4511-b4cf-c91fae101d36",
       "rows": [
        [
         "0",
         "LR",
         "1.0",
         "1.0"
        ],
        [
         "1",
         "KNN",
         "1.0",
         "1.0"
        ],
        [
         "2",
         "DT",
         "1.0",
         "1.0"
        ],
        [
         "3",
         "RF",
         "1.0",
         "1.0"
        ],
        [
         "4",
         "XGB",
         "1.0",
         "1.0"
        ]
       ],
       "shape": {
        "columns": 3,
        "rows": 5
       }
      },
      "text/html": [
       "<div>\n",
       "<style scoped>\n",
       "    .dataframe tbody tr th:only-of-type {\n",
       "        vertical-align: middle;\n",
       "    }\n",
       "\n",
       "    .dataframe tbody tr th {\n",
       "        vertical-align: top;\n",
       "    }\n",
       "\n",
       "    .dataframe thead th {\n",
       "        text-align: right;\n",
       "    }\n",
       "</style>\n",
       "<table border=\"1\" class=\"dataframe\">\n",
       "  <thead>\n",
       "    <tr style=\"text-align: right;\">\n",
       "      <th></th>\n",
       "      <th>Model</th>\n",
       "      <th>Test Accuracy</th>\n",
       "      <th>Test F1 Macro</th>\n",
       "    </tr>\n",
       "  </thead>\n",
       "  <tbody>\n",
       "    <tr>\n",
       "      <th>0</th>\n",
       "      <td>LR</td>\n",
       "      <td>1.0</td>\n",
       "      <td>1.0</td>\n",
       "    </tr>\n",
       "    <tr>\n",
       "      <th>1</th>\n",
       "      <td>KNN</td>\n",
       "      <td>1.0</td>\n",
       "      <td>1.0</td>\n",
       "    </tr>\n",
       "    <tr>\n",
       "      <th>2</th>\n",
       "      <td>DT</td>\n",
       "      <td>1.0</td>\n",
       "      <td>1.0</td>\n",
       "    </tr>\n",
       "    <tr>\n",
       "      <th>3</th>\n",
       "      <td>RF</td>\n",
       "      <td>1.0</td>\n",
       "      <td>1.0</td>\n",
       "    </tr>\n",
       "    <tr>\n",
       "      <th>4</th>\n",
       "      <td>XGB</td>\n",
       "      <td>1.0</td>\n",
       "      <td>1.0</td>\n",
       "    </tr>\n",
       "  </tbody>\n",
       "</table>\n",
       "</div>"
      ],
      "text/plain": [
       "  Model  Test Accuracy  Test F1 Macro\n",
       "0    LR            1.0            1.0\n",
       "1   KNN            1.0            1.0\n",
       "2    DT            1.0            1.0\n",
       "3    RF            1.0            1.0\n",
       "4   XGB            1.0            1.0"
      ]
     },
     "metadata": {},
     "output_type": "display_data"
    }
   ],
   "source": [
    "print(\"--- Training all models on the full augmented dataset ---\")\n",
    "trained_pipelines = {}\n",
    "for name, pipe in tqdm(pipelines.items(), desc=\"Training All Models\"):\n",
    "    pipe.fit(X_train, y_train)\n",
    "    trained_pipelines[name] = pipe\n",
    "print(\"All models trained successfully.\\n\")\n",
    "\n",
    "print(\"--- Evaluating all models on the unseen test data ---\")\n",
    "test_results = []\n",
    "target_names = ['glute_bridge_down', 'glute_bridge_up']\n",
    "\n",
    "for name, trained_pipe in trained_pipelines.items():\n",
    "    y_pred_test = trained_pipe.predict(X_test)\n",
    "    accuracy = accuracy_score(y_test, y_pred_test)\n",
    "    f1 = f1_score(y_test, y_pred_test, average='macro')\n",
    "    test_results.append({\n",
    "        'Model': name,\n",
    "        'Test Accuracy': accuracy,\n",
    "        'Test F1 Macro': f1\n",
    "    })\n",
    "\n",
    "test_results_df = pd.DataFrame(test_results).sort_values(by='Test F1 Macro', ascending=False)\n",
    "display(test_results_df)"
   ]
  },
  {
   "cell_type": "markdown",
   "metadata": {},
   "source": [
    "# Model Saving"
   ]
  },
  {
   "cell_type": "code",
   "execution_count": 8,
   "metadata": {},
   "outputs": [
    {
     "name": "stdout",
     "output_type": "stream",
     "text": [
      "\n",
      "All trained pipelines saved to: ../models/pkl/all_trained_model_pipelines.pkl\n",
      "\n",
      "--- Detailed Report and Saving for Chosen Model: 'RF' ---\n",
      "\n",
      "Test Set Classification Report:\n",
      "                   precision    recall  f1-score   support\n",
      "\n",
      "glute_bridge_down       1.00      1.00      1.00        15\n",
      "  glute_bridge_up       1.00      1.00      1.00        14\n",
      "\n",
      "         accuracy                           1.00        29\n",
      "        macro avg       1.00      1.00      1.00        29\n",
      "     weighted avg       1.00      1.00      1.00        29\n",
      "\n"
     ]
    },
    {
     "data": {
      "image/png": "[encoded data removed]",
      "text/plain": [
       "<Figure size 700x500 with 2 Axes>"
      ]
     },
     "metadata": {},
     "output_type": "display_data"
    },
    {
     "name": "stdout",
     "output_type": "stream",
     "text": [
      "Chosen model pipeline ('RF') saved to: ../models/pkl/RF_model.pkl\n"
     ]
    }
   ],
   "source": [
    "all_models_save_path = os.path.join(MODEL_PKL_DIR, \"all_trained_model_pipelines.pkl\")\n",
    "with open(all_models_save_path, \"wb\") as f:\n",
    "    pickle.dump(trained_pipelines, f)\n",
    "print(f\"\\nAll trained pipelines saved to: {all_models_save_path}\")\n",
    "\n",
    "#    >>>>> YOU CAN CHANGE THIS VALUE TO 'LR', 'KNN', 'DT', 'RF', or 'XGB' <<<<<\n",
    "CHOSEN_MODEL_NAME = 'RF' \n",
    "\n",
    "if CHOSEN_MODEL_NAME in trained_pipelines:\n",
    "    print(f\"\\n--- Detailed Report and Saving for Chosen Model: '{CHOSEN_MODEL_NAME}' ---\")\n",
    "    \n",
    "    # Select the chosen pipeline\n",
    "    chosen_pipeline = trained_pipelines[CHOSEN_MODEL_NAME]\n",
    "    \n",
    "    # Generate predictions for the report\n",
    "    y_pred_chosen = chosen_pipeline.predict(X_test)\n",
    "    \n",
    "    # Print classification report\n",
    "    print(\"\\nTest Set Classification Report:\")\n",
    "    print(classification_report(y_test, y_pred_chosen, target_names=target_names))\n",
    "\n",
    "    # Plot Confusion Matrix\n",
    "    cm = confusion_matrix(y_test, y_pred_chosen)\n",
    "    plt.figure(figsize=(7, 5))\n",
    "    sns.heatmap(cm, annot=True, fmt='d', cmap='Greens', xticklabels=target_names, yticklabels=target_names)\n",
    "    plt.title(f'Confusion Matrix for {CHOSEN_MODEL_NAME} on Test Data')\n",
    "    plt.xlabel('Predicted Label')\n",
    "    plt.ylabel('True Label')\n",
    "    plt.show()\n",
    "\n",
    "    # Save the chosen model pipeline\n",
    "    model_save_path = os.path.join(MODEL_PKL_DIR, f\"{CHOSEN_MODEL_NAME}_model.pkl\")\n",
    "    with open(model_save_path, \"wb\") as f:\n",
    "        pickle.dump(chosen_pipeline, f)\n",
    "    print(f\"Chosen model pipeline ('{CHOSEN_MODEL_NAME}') saved to: {model_save_path}\")\n",
    "\n",
    "else:\n",
    "    print(f\"\\nError: The chosen model '{CHOSEN_MODEL_NAME}' is not a valid model name.\")\n",
    "    print(f\"Please choose from: {list(trained_pipelines.keys())}\")"
   ]
  }
 ],
 "metadata": {
  "kernelspec": {
   "display_name": "myenv",
   "language": "python",
   "name": "python3"
  },
  "language_info": {
   "codemirror_mode": {
    "name": "ipython",
    "version": 3
   },
   "file_extension": ".py",
   "mimetype": "text/x-python",
   "name": "python",
   "nbconvert_exporter": "python",
   "pygments_lexer": "ipython3",
   "version": "3.8.20"
  }
 },
 "nbformat": 4,
 "nbformat_minor": 4
}
